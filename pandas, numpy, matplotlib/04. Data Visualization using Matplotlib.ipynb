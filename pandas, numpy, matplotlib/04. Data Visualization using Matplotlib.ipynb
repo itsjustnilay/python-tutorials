{
 "cells": [
  {
   "cell_type": "markdown",
   "id": "652c961e",
   "metadata": {},
   "source": [
    "# <U>BAR-GRAPHS</U>"
   ]
  },
  {
   "cell_type": "markdown",
   "id": "c7288bdc",
   "metadata": {},
   "source": [
    "bargraph text"
   ]
  },
  {
   "cell_type": "code",
   "execution_count": 1,
   "id": "39b0a244",
   "metadata": {},
   "outputs": [],
   "source": [
    "# import libraries needed\n",
    "\n",
    "import numpy as np\n",
    "import pandas as pd\n",
    "import matplotlib.pyplot as plt    #we import pyplot from matplotlib library because thats what we're using\n",
    "\n",
    "%matplotlib inline    \n",
    "#helps visualize a plot in result of our code"
   ]
  },
  {
   "cell_type": "code",
   "execution_count": 2,
   "id": "088bf238",
   "metadata": {},
   "outputs": [
    {
     "data": {
      "text/plain": [
       "array(['Furniture', 'Office Supplies', 'Technology'], dtype='<U15')"
      ]
     },
     "execution_count": 2,
     "metadata": {},
     "output_type": "execute_result"
    }
   ],
   "source": [
    "#creating an array with product categories\n",
    "\n",
    "pro_categ = np.array([\"Furniture\", \"Office Supplies\", \"Technology\"])\n",
    "pro_categ"
   ]
  },
  {
   "cell_type": "code",
   "execution_count": 3,
   "id": "27c6d5f6",
   "metadata": {},
   "outputs": [
    {
     "data": {
      "text/plain": [
       "array([20000, 15000, 56000])"
      ]
     },
     "execution_count": 3,
     "metadata": {},
     "output_type": "execute_result"
    }
   ],
   "source": [
    "#creating an array with the sales amount\n",
    "#furniture = 20,000; office supply = 15000; technology = 56000\n",
    "\n",
    "sales = np.array([20000, 15000, 56000])\n",
    "sales"
   ]
  },
  {
   "cell_type": "code",
   "execution_count": 4,
   "id": "1166486e",
   "metadata": {},
   "outputs": [
    {
     "data": {
      "image/png": "[encoded data removed]",
      "text/plain": [
       "<Figure size 432x288 with 1 Axes>"
      ]
     },
     "metadata": {
      "needs_background": "light"
     },
     "output_type": "display_data"
    }
   ],
   "source": [
    "# to make a bar graph with product categories on x axis and sales on y axis\n",
    "plt.bar(pro_categ, sales)\n",
    "\n",
    "# necessary command to display the created graph\n",
    "plt.show()"
   ]
  },
  {
   "cell_type": "code",
   "execution_count": null,
   "id": "1f115278",
   "metadata": {},
   "outputs": [],
   "source": []
  },
  {
   "cell_type": "code",
   "execution_count": null,
   "id": "f611daa6",
   "metadata": {},
   "outputs": [],
   "source": []
  },
  {
   "cell_type": "markdown",
   "id": "84ad1684",
   "metadata": {},
   "source": [
    "https://stackoverflow.com/questions/51971491/plot-bar-chart-number-of-ticks-on-xaxis\n",
    "\n",
    "https://towardsdatascience.com/how-to-make-bar-and-hbar-charts-with-labels-using-matplotlib-b701ce70ba9c\n"
   ]
  },
  {
   "cell_type": "code",
   "execution_count": null,
   "id": "36b8c450",
   "metadata": {},
   "outputs": [],
   "source": []
  },
  {
   "cell_type": "code",
   "execution_count": null,
   "id": "619038bf",
   "metadata": {},
   "outputs": [],
   "source": []
  },
  {
   "cell_type": "markdown",
   "id": "3bae84f2",
   "metadata": {},
   "source": [
    " "
   ]
  },
  {
   "cell_type": "markdown",
   "id": "54b1ef8c",
   "metadata": {},
   "source": [
    "# <u>SCATTER PLOT</u>"
   ]
  },
  {
   "cell_type": "code",
   "execution_count": null,
   "id": "1960ce8a",
   "metadata": {},
   "outputs": [],
   "source": []
  }
 ],
 "metadata": {
  "kernelspec": {
   "display_name": "Python 3 (ipykernel)",
   "language": "python",
   "name": "python3"
  },
  "language_info": {
   "codemirror_mode": {
    "name": "ipython",
    "version": 3
   },
   "file_extension": ".py",
   "mimetype": "text/x-python",
   "name": "python",
   "nbconvert_exporter": "python",
   "pygments_lexer": "ipython3",
   "version": "3.9.12"
  }
 },
 "nbformat": 4,
 "nbformat_minor": 5
}
