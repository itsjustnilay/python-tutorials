{
 "cells": [
  {
   "cell_type": "markdown",
   "id": "5c615727",
   "metadata": {},
   "source": [
    "## Installing Biopython"
   ]
  },
  {
   "cell_type": "markdown",
   "id": "85cbff60",
   "metadata": {},
   "source": [
    "Biopython can be installed easily from your Anaconda Distribution packages in Environment tab. Another option to do so is by using following commands in your command prompt.\n",
    "\n",
    "1) All supported versions of Python include the Python package management tool pip, which allows an easy installation from the command line on all platforms. Try:\n",
    "**pip install biopython**\n",
    "\n",
    "2) For updating an older version of Biopython try:\n",
    "**pip install biopython --upgrade**.\n",
    "This will remove older versions of Biopython and NumPy before it installs the recent versions.\n",
    "\n",
    "3) Should you wish to uninstall Biopython:\n",
    "**pip uninstall biopython**\n",
    "\n",
    "4) If pip is not already installed you may need to update your Python, but first try:\n",
    "**python -m ensurepip**\n",
    "\n",
    "5) If you need to install under a specific version of Python, try something like this:\n",
    "**python3.9 -m pip install biopython**\n",
    "or\n",
    "**pypy -m pip install biopython** \n",
    "\n",
    "6) On Windows, by default python and pip are not on the PATH. You can re-install Python and tick this option, or give the full path instead. Try something like this, depending on where your copy of Python is installed:\n",
    "**C:\\Python39\\Scripts\\pip install biopython**\n",
    "\n",
    "For more, visit https://biopython.org/wiki/Download"
   ]
  },
  {
   "cell_type": "markdown",
   "id": "0f904059",
   "metadata": {},
   "source": [
    "## <u>Working with Biopython</u>"
   ]
  },
  {
   "cell_type": "markdown",
   "id": "a50cddb5",
   "metadata": {},
   "source": [
    "Biopython is a set of freely available tools for biological computation written in Python by an international team of developers. It is used in both bioinformatics software development and in everyday scripts for common bioinformatics tasks. The homepage www.biopython.org provides access to the source code, documentation and mailing lists.\n",
    "\n",
    "It contains classes to represent biological sequences and sequence annotations, and it is able to read and write to a variety of file formats. It also allows for a programmatic means of accessing online databases of biological information, such as those at NCBI. Separate modules extend Biopython's capabilities to sequence alignment, protein structure, population genetics, phylogenetics, sequence motifs, and machine learning. Biopython is one of a number of Bio* projects designed to reduce code duplication in computational biology.\n",
    "\n",
    "**A comprehensive guide**: https://mygoblet.org/sites/default/files/materrials/Biopython_ppt.pdf"
   ]
  },
  {
   "cell_type": "code",
   "execution_count": 4,
   "id": "d45ae272",
   "metadata": {},
   "outputs": [],
   "source": [
    "from Bio.Seq import Seq     #importing Seq object from Bio.Seq module"
   ]
  },
  {
   "cell_type": "markdown",
   "id": "504cda06",
   "metadata": {},
   "source": [
    "Sequence is basically a special series of letters which is used to represent the protein of an organism, DNA or RNA. \n",
    "\n",
    "Sequences in Biopython are usually handled by the **Seq** object described in **Bio.Seq** module. The Seq object has inbuilt functions like **complement, reverse_complement, transcribe, back_transcribe and translate**, etc. The Seq objects has numerous string methods like **count(), find(), split(), strip(), etc.**\n",
    "\n",
    "More in https://www.geeksforgeeks.org/sequence-in-biopython-module/\n",
    "\n",
    "https://biopython.org/docs/1.75/api/Bio.Seq.html\n",
    "\n",
    "http://fenyolab.org/presentations/Introduction_Biostatistics_Bioinformatics_2015/pdf/IBB2015_homework4_biopython.pdf"
   ]
  },
  {
   "cell_type": "markdown",
   "id": "6df6505b",
   "metadata": {},
   "source": [
    "### Find complement of following sequence"
   ]
  },
  {
   "cell_type": "code",
   "execution_count": 5,
   "id": "f88b2852",
   "metadata": {},
   "outputs": [
    {
     "name": "stdout",
     "output_type": "stream",
     "text": [
      "our sequence is AATGCTAAAAAAATGCTGTATGC\n",
      "Its complement is TTACGATTTTTTTACGACATACG\n"
     ]
    }
   ],
   "source": [
    "my_seq = Seq(\"AATGCTaaaaaaatgctgtATGC\")\n",
    "my_seq = my_seq.upper()\n",
    "print(\"our sequence is\", my_seq)\n",
    "print(\"Its complement is\", my_seq.complement())    #we use the .complement() method"
   ]
  },
  {
   "cell_type": "markdown",
   "id": "278917d2",
   "metadata": {},
   "source": [
    "### Print reverse complement of given sequence"
   ]
  },
  {
   "cell_type": "code",
   "execution_count": 6,
   "id": "45497234",
   "metadata": {},
   "outputs": [
    {
     "data": {
      "text/plain": [
       "Seq('AGTCAGAGTCATGCAGCATGCAT')"
      ]
     },
     "execution_count": 6,
     "metadata": {},
     "output_type": "execute_result"
    }
   ],
   "source": [
    "my_seq = Seq(\"ATGCATGCTGCATGACTCTGACT\")\n",
    "my_seq.reverse_complement()"
   ]
  },
  {
   "cell_type": "markdown",
   "id": "39b9aa41",
   "metadata": {},
   "source": [
    "### Do Transcribing and Reverse-transcribing of your DNA"
   ]
  },
  {
   "cell_type": "code",
   "execution_count": 7,
   "id": "f7f02723",
   "metadata": {},
   "outputs": [
    {
     "data": {
      "text/plain": [
       "Seq('AUGCAUGCUGCAUGACUCUGACU')"
      ]
     },
     "execution_count": 7,
     "metadata": {},
     "output_type": "execute_result"
    }
   ],
   "source": [
    "#transcription\n",
    "my_seq = Seq(\"ATGCATGCTGCATGACTCTGACT\")\n",
    "my_seq.transcribe()"
   ]
  },
  {
   "cell_type": "code",
   "execution_count": 8,
   "id": "d28a27b0",
   "metadata": {},
   "outputs": [
    {
     "data": {
      "text/plain": [
       "Seq('ATGCATGCTGCATGACTCTGACT')"
      ]
     },
     "execution_count": 8,
     "metadata": {},
     "output_type": "execute_result"
    }
   ],
   "source": [
    "# reverse transcription\n",
    "my_seq = Seq(\"ATGCATGCTGCATGACTCTGACT\")\n",
    "my_seq.back_transcribe()"
   ]
  },
  {
   "cell_type": "markdown",
   "id": "1df63c27",
   "metadata": {},
   "source": [
    "### DNA to protein"
   ]
  },
  {
   "cell_type": "code",
   "execution_count": 9,
   "id": "46e3df46",
   "metadata": {},
   "outputs": [
    {
     "data": {
      "text/plain": [
       "Seq('MHAAYSDM')"
      ]
     },
     "execution_count": 9,
     "metadata": {},
     "output_type": "execute_result"
    }
   ],
   "source": [
    "my_seq = Seq(\"ATGCATGCTGCATACTCTGACATG\")\n",
    "my_seq.translate()"
   ]
  },
  {
   "cell_type": "markdown",
   "id": "f6814273",
   "metadata": {},
   "source": [
    "### Read the sequence from .fasta and translate it using Biopython."
   ]
  },
  {
   "cell_type": "code",
   "execution_count": 10,
   "id": "72786416",
   "metadata": {},
   "outputs": [
    {
     "name": "stdout",
     "output_type": "stream",
     "text": [
      "WDQSAEAACVRVRVRVCACVCVRLHLCRVGKEIEMGGQ*AQVPKALNPLVWSLLRAMGAIEKSEQGCV*M*GLEGSSREASSKAFAIIW*ENPARMDRQNGIEMSWQLKWTGFGTSLVVGSKQRRIWDSGGLAWGRRGCLRGWEG*E*DDTWWCLAGGGQG*LCEGTARATEAF*DPAVPEPGRQDLHCGRPGEHLA\n"
     ]
    },
    {
     "ename": "TranslationError",
     "evalue": "Codon 'MEP' is invalid",
     "output_type": "error",
     "traceback": [
      "\u001b[1;31m---------------------------------------------------------------------------\u001b[0m",
      "\u001b[1;31mTranslationError\u001b[0m                          Traceback (most recent call last)",
      "\u001b[1;32m~\\AppData\\Local\\Temp\\ipykernel_3988\\3658995610.py\u001b[0m in \u001b[0;36m<module>\u001b[1;34m\u001b[0m\n\u001b[0;32m      5\u001b[0m     \u001b[0mseq_id\u001b[0m \u001b[1;33m=\u001b[0m \u001b[0ma\u001b[0m\u001b[1;33m.\u001b[0m\u001b[0mid\u001b[0m\u001b[1;33m\u001b[0m\u001b[1;33m\u001b[0m\u001b[0m\n\u001b[0;32m      6\u001b[0m     \u001b[0mmy_seq\u001b[0m \u001b[1;33m=\u001b[0m \u001b[0ma\u001b[0m\u001b[1;33m.\u001b[0m\u001b[0mseq\u001b[0m\u001b[1;33m\u001b[0m\u001b[1;33m\u001b[0m\u001b[0m\n\u001b[1;32m----> 7\u001b[1;33m     \u001b[0mprint\u001b[0m\u001b[1;33m(\u001b[0m\u001b[0mmy_seq\u001b[0m\u001b[1;33m.\u001b[0m\u001b[0mtranslate\u001b[0m\u001b[1;33m(\u001b[0m\u001b[1;33m)\u001b[0m\u001b[1;33m)\u001b[0m\u001b[1;33m\u001b[0m\u001b[1;33m\u001b[0m\u001b[0m\n\u001b[0m",
      "\u001b[1;32m~\\anaconda3\\lib\\site-packages\\Bio\\Seq.py\u001b[0m in \u001b[0;36mtranslate\u001b[1;34m(self, table, stop_symbol, to_stop, cds, gap)\u001b[0m\n\u001b[0;32m   1452\u001b[0m \u001b[1;33m\u001b[0m\u001b[0m\n\u001b[0;32m   1453\u001b[0m         return self.__class__(\n\u001b[1;32m-> 1454\u001b[1;33m             \u001b[0m_translate_str\u001b[0m\u001b[1;33m(\u001b[0m\u001b[0mstr\u001b[0m\u001b[1;33m(\u001b[0m\u001b[0mself\u001b[0m\u001b[1;33m)\u001b[0m\u001b[1;33m,\u001b[0m \u001b[0mtable\u001b[0m\u001b[1;33m,\u001b[0m \u001b[0mstop_symbol\u001b[0m\u001b[1;33m,\u001b[0m \u001b[0mto_stop\u001b[0m\u001b[1;33m,\u001b[0m \u001b[0mcds\u001b[0m\u001b[1;33m,\u001b[0m \u001b[0mgap\u001b[0m\u001b[1;33m=\u001b[0m\u001b[0mgap\u001b[0m\u001b[1;33m)\u001b[0m\u001b[1;33m\u001b[0m\u001b[1;33m\u001b[0m\u001b[0m\n\u001b[0m\u001b[0;32m   1455\u001b[0m         )\n\u001b[0;32m   1456\u001b[0m \u001b[1;33m\u001b[0m\u001b[0m\n",
      "\u001b[1;32m~\\anaconda3\\lib\\site-packages\\Bio\\Seq.py\u001b[0m in \u001b[0;36m_translate_str\u001b[1;34m(sequence, table, stop_symbol, to_stop, cds, pos_stop, gap)\u001b[0m\n\u001b[0;32m   3512\u001b[0m                 \u001b[0mamino_acids\u001b[0m\u001b[1;33m.\u001b[0m\u001b[0mappend\u001b[0m\u001b[1;33m(\u001b[0m\u001b[0mgap\u001b[0m\u001b[1;33m)\u001b[0m\u001b[1;33m\u001b[0m\u001b[1;33m\u001b[0m\u001b[0m\n\u001b[0;32m   3513\u001b[0m             \u001b[1;32melse\u001b[0m\u001b[1;33m:\u001b[0m\u001b[1;33m\u001b[0m\u001b[1;33m\u001b[0m\u001b[0m\n\u001b[1;32m-> 3514\u001b[1;33m                 raise CodonTable.TranslationError(\n\u001b[0m\u001b[0;32m   3515\u001b[0m                     \u001b[1;34mf\"Codon '{codon}' is invalid\"\u001b[0m\u001b[1;33m\u001b[0m\u001b[1;33m\u001b[0m\u001b[0m\n\u001b[0;32m   3516\u001b[0m                 ) from None\n",
      "\u001b[1;31mTranslationError\u001b[0m: Codon 'MEP' is invalid"
     ]
    }
   ],
   "source": [
    "from Bio.SeqIO import parse\n",
    "from Bio.Seq import Seq\n",
    "\n",
    "for a in parse(open(\"file.fasta\"), \"fasta\"):\n",
    "    seq_id = a.id\n",
    "    my_seq = a.seq\n",
    "    print(my_seq.translate())"
   ]
  },
  {
   "cell_type": "code",
   "execution_count": null,
   "id": "81cf26ed",
   "metadata": {},
   "outputs": [],
   "source": [
    "from Bio.SeqIO import parse\n",
    "from Bio.Seq import Seq\n",
    "\n",
    "for seq_record in parse(open(\"file.fasta\"), \"fasta\"):\n",
    "    print(seq_record.id)\n",
    "    print(repr(seq_record.seq))\n",
    "    print(len(seq_record))"
   ]
  },
  {
   "cell_type": "markdown",
   "id": "61a54cd9",
   "metadata": {},
   "source": [
    "### How many A, T, G, C are there in the sequence"
   ]
  },
  {
   "cell_type": "code",
   "execution_count": null,
   "id": "dea58544",
   "metadata": {},
   "outputs": [],
   "source": [
    "my_seq = Seq(\"ATGCATGCTGCATACTCTGACATG\")\n",
    "print(\"Number of As:\", my_seq.count(\"A\"))\n",
    "print(\"Number of Gs:\", my_seq.count(\"G\"))\n",
    "print(\"Number of Cs:\", my_seq.count(\"C\"))\n",
    "print(\"Number of Ts:\", my_seq.count(\"T\"))"
   ]
  },
  {
   "cell_type": "markdown",
   "id": "02d25ef8",
   "metadata": {},
   "source": [
    "### Read the fasta file (fa file) and print the first record from the same"
   ]
  },
  {
   "cell_type": "code",
   "execution_count": null,
   "id": "ec452058",
   "metadata": {},
   "outputs": [],
   "source": [
    "from Bio.SeqIO import parse\n",
    "from Bio.Seq import Seq\n",
    "\n",
    "seqs = []\n",
    "\n",
    "for seq_record in parse(open(\"file.fasta\"), \"fasta\"):\n",
    "    seqs.append(seq_record)\n",
    "seqs[0]   "
   ]
  },
  {
   "cell_type": "markdown",
   "id": "46253500",
   "metadata": {},
   "source": [
    "### Find GC content"
   ]
  },
  {
   "cell_type": "code",
   "execution_count": null,
   "id": "d30c2036",
   "metadata": {},
   "outputs": [],
   "source": [
    "from Bio.SeqUtils import GC\n",
    "GC(\"ACTGNAAAGGGGTGCATGCTAGCTGGGATTC\")"
   ]
  },
  {
   "cell_type": "markdown",
   "id": "bcf3480c",
   "metadata": {},
   "source": [
    "### Concatenate two sequences"
   ]
  },
  {
   "cell_type": "code",
   "execution_count": null,
   "id": "075daf4b",
   "metadata": {},
   "outputs": [],
   "source": [
    "seq1= Seq(\"ATGCATGC\")\n",
    "seq2= Seq(\"GATCGATC\")\n",
    "\n",
    "seq1 = str(seq1)         #this is using string methods\n",
    "seq2 = str(seq2)\n",
    "seq = seq1+seq2\n",
    "seq"
   ]
  },
  {
   "cell_type": "code",
   "execution_count": null,
   "id": "4e11a44c",
   "metadata": {},
   "outputs": [],
   "source": [
    "#using seq object\n",
    "\n",
    "seq1= Seq(\"ATGCATGC\")\n",
    "seq2= Seq(\"GATCGATC\")\n",
    "seq3 = seq1+seq2         #simply add seq objects\n",
    "seq3"
   ]
  },
  {
   "cell_type": "code",
   "execution_count": null,
   "id": "5fbd3fd0",
   "metadata": {},
   "outputs": [],
   "source": [
    "seqs = [Seq(\"ATGC\"), Seq(\"GATC\"),Seq(\"ATGC\")]\n",
    "\n",
    "#index, save in seperate variables, just add\n",
    "seq1 = seqs[0]\n",
    "seq2 = seqs[1]\n",
    "seq3 = seqs[2]\n",
    "concat_seq = seq1+seq2+seq3\n",
    "print(concat_seq)\n",
    "\n",
    "\n",
    "#alternate method\n",
    "concat = Seq(\"\")\n",
    "for i in seqs:\n",
    "    concat += i\n",
    "    \n",
    "concat"
   ]
  },
  {
   "cell_type": "markdown",
   "id": "9e5c798b",
   "metadata": {},
   "source": [
    "### Take a Seq object (which has lower and upper case both) and convert lower cases into upper cases"
   ]
  },
  {
   "cell_type": "code",
   "execution_count": null,
   "id": "58eb6e39",
   "metadata": {},
   "outputs": [],
   "source": [
    "my_seq = Seq(\"AATGCTaaaaaaatgctgtATGC\")\n",
    "my_seq = my_seq.upper()\n",
    "print(\"our sequence is\", my_seq)"
   ]
  },
  {
   "cell_type": "markdown",
   "id": "e1da62fe",
   "metadata": {},
   "source": [
    "### Take three Seq object and add a sequence of 10N between each of them"
   ]
  },
  {
   "cell_type": "code",
   "execution_count": null,
   "id": "083f59b4",
   "metadata": {},
   "outputs": [],
   "source": [
    "Seqs = [Seq(\"ATG\"), Seq(\"ATCCCG\"), Seq(\"TTGCA\")]\n",
    "filler_seq = Seq(\"NNNNNNNNNN\")\n",
    "\n",
    "my_seq = Seqs[0] + filler_seq + Seqs[1] + filler_seq + Seqs[2]\n",
    "my_seq"
   ]
  },
  {
   "cell_type": "code",
   "execution_count": null,
   "id": "c12007bf",
   "metadata": {},
   "outputs": [],
   "source": [
    "# using join method\n",
    "\n",
    "Seqs = [Seq(\"ATG\"), Seq(\"ATCCCG\"), Seq(\"TTGCA\")] \n",
    "filler = Seq(\"N\"*10) \n",
    "filler.join(Seqs) "
   ]
  },
  {
   "cell_type": "markdown",
   "id": "550a27d8",
   "metadata": {},
   "source": [
    "### Make a dataframe as instructed"
   ]
  },
  {
   "cell_type": "code",
   "execution_count": null,
   "id": "de15f185",
   "metadata": {},
   "outputs": [],
   "source": [
    "from Bio.SeqIO import parse\n",
    "from Bio.Seq import Seq\n",
    "import pandas as pd\n",
    "\n",
    "for seq_record in parse(open(\"file.fasta\"), \"fasta\"):\n",
    "    print(seq_record.id)\n",
    "    print(repr(seq_record.seq))\n",
    "    print(len(seq_record))"
   ]
  },
  {
   "cell_type": "code",
   "execution_count": null,
   "id": "acb675b9",
   "metadata": {},
   "outputs": [],
   "source": []
  },
  {
   "cell_type": "code",
   "execution_count": null,
   "id": "4a8854e5",
   "metadata": {},
   "outputs": [],
   "source": []
  },
  {
   "cell_type": "markdown",
   "id": "b5a90e31",
   "metadata": {},
   "source": [
    "### Save all the “short” sequences of less than 150 nucleotides to a new Fasta file"
   ]
  },
  {
   "cell_type": "code",
   "execution_count": 24,
   "id": "ca942cbf",
   "metadata": {},
   "outputs": [
    {
     "name": "stdout",
     "output_type": "stream",
     "text": [
      "1 records selected out of 2\n"
     ]
    }
   ],
   "source": [
    "from Bio import SeqIO\n",
    "\n",
    "input_file = \"file.fasta\"\n",
    "output_file = \"converted_file.fasta\"\n",
    "count = 0\n",
    "total = 0\n",
    "\n",
    "for seq_record in SeqIO.parse(input_file, \"fasta\"):\n",
    "    total += 1\n",
    "    if 150 > len(seq_record):\n",
    "        count += 1\n",
    "        SeqIO.write(seq_record, output_file, \"fasta\")\n",
    "print(str(count) + \" records selected out of \" + str(total))"
   ]
  },
  {
   "cell_type": "markdown",
   "id": "5eb09233",
   "metadata": {},
   "source": [
    "### Select 200 random nucleotides from sequence.fasta and randomly generate 500 sequences"
   ]
  },
  {
   "cell_type": "code",
   "execution_count": null,
   "id": "9db2bf10",
   "metadata": {},
   "outputs": [],
   "source": [
    "from Bio import SeqIO\n",
    "import random\n",
    "\n",
    "input_file = \"sequence.fasta\"\n",
    "output_file = \"random.fasta\"\n",
    "\n"
   ]
  }
 ],
 "metadata": {
  "kernelspec": {
   "display_name": "Python 3 (ipykernel)",
   "language": "python",
   "name": "python3"
  },
  "language_info": {
   "codemirror_mode": {
    "name": "ipython",
    "version": 3
   },
   "file_extension": ".py",
   "mimetype": "text/x-python",
   "name": "python",
   "nbconvert_exporter": "python",
   "pygments_lexer": "ipython3",
   "version": "3.9.13"
  }
 },
 "nbformat": 4,
 "nbformat_minor": 5
}
