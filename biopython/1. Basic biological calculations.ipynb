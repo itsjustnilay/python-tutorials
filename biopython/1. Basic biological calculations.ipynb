{
 "cells": [
  {
   "cell_type": "markdown",
   "id": "f9ddf93e",
   "metadata": {},
   "source": [
    "**Can you write a program to calculate the number of A,T,G,C and then GC%?**"
   ]
  },
  {
   "cell_type": "code",
   "execution_count": 12,
   "id": "77833fd0",
   "metadata": {},
   "outputs": [],
   "source": [
    "seq = \"AATCCGCTAG\"\n",
    "num_A = seq.count(\"A\")\n",
    "num_G = seq.count(\"G\")\n",
    "num_C = seq.count(\"C\")\n",
    "num_T = seq.count(\"T\")"
   ]
  },
  {
   "cell_type": "code",
   "execution_count": 13,
   "id": "54eb9765",
   "metadata": {},
   "outputs": [
    {
     "data": {
      "text/plain": [
       "3"
      ]
     },
     "execution_count": 13,
     "metadata": {},
     "output_type": "execute_result"
    }
   ],
   "source": [
    "num_A"
   ]
  },
  {
   "cell_type": "code",
   "execution_count": 14,
   "id": "31a3cf93",
   "metadata": {},
   "outputs": [
    {
     "data": {
      "text/plain": [
       "2"
      ]
     },
     "execution_count": 14,
     "metadata": {},
     "output_type": "execute_result"
    }
   ],
   "source": [
    "num_G"
   ]
  },
  {
   "cell_type": "code",
   "execution_count": 20,
   "id": "df9b93be",
   "metadata": {},
   "outputs": [
    {
     "name": "stdout",
     "output_type": "stream",
     "text": [
      "GC content is 50 %\n"
     ]
    }
   ],
   "source": [
    "per_GC= round((seq.count('C') + seq.count('G')) / len(seq) * 100)\n",
    "print(\"GC content is\", per_GC, \"%\")"
   ]
  },
  {
   "cell_type": "code",
   "execution_count": 21,
   "id": "e78550a3",
   "metadata": {},
   "outputs": [
    {
     "name": "stdout",
     "output_type": "stream",
     "text": [
      "AT and GC content are equal.\n"
     ]
    }
   ],
   "source": [
    "per_GC= round((seq.count('C') + seq.count('G')) / len(seq) * 100)\n",
    "per_AT = round((seq.count('A') + seq.count('T')) / len(seq) * 100)\n",
    "if per_GC > per_AT:\n",
    "    print(\"GC content is more\", per_GC)\n",
    "elif per_AT > per_GC:\n",
    "        print(\"AT content is more\", per_AT)\n",
    "else:\n",
    "        print(\"AT and GC content are equal.\")"
   ]
  },
  {
   "cell_type": "markdown",
   "id": "bff0b337",
   "metadata": {},
   "source": [
    "**Find complementary sequence of the following code**"
   ]
  },
  {
   "cell_type": "code",
   "execution_count": 36,
   "id": "b2d1462f",
   "metadata": {},
   "outputs": [
    {
     "data": {
      "text/plain": [
       "'TTACGATTTTTTTACGACATACG'"
      ]
     },
     "execution_count": 36,
     "metadata": {},
     "output_type": "execute_result"
    }
   ],
   "source": [
    "a = \"AATGCTaaaaaaatgctgtATGC\"\n",
    "seq = a.upper()\n",
    "seq = seq.replace(\"A\", \"t\").replace(\"C\", \"g\").replace(\"T\", \"a\").replace(\"G\", \"c\")\n",
    "seq = seq.upper()\n",
    "seq"
   ]
  },
  {
   "cell_type": "markdown",
   "id": "f8bd9d3e",
   "metadata": {},
   "source": [
    "**Print reverse of given sequence**"
   ]
  },
  {
   "cell_type": "code",
   "execution_count": 4,
   "id": "751b13c1",
   "metadata": {},
   "outputs": [
    {
     "data": {
      "text/plain": [
       "'CGTATGTCGTAAAAAAATCGTAA'"
      ]
     },
     "execution_count": 4,
     "metadata": {},
     "output_type": "execute_result"
    }
   ],
   "source": [
    "seq2 = \"AATGCTaaaaaaatgctgtATGC\"\n",
    "seq2 = seq2.upper()\n",
    "seq2 = seq2[::-1]\n",
    "seq2"
   ]
  },
  {
   "cell_type": "markdown",
   "id": "3ee3e7ce",
   "metadata": {},
   "source": [
    "**Make reverse compliment of given sequence (reverse transcriptase)**"
   ]
  },
  {
   "cell_type": "code",
   "execution_count": 38,
   "id": "8bbaeb58",
   "metadata": {},
   "outputs": [
    {
     "data": {
      "text/plain": [
       "'AGTCAGAGTCATGCAGCATGCAT'"
      ]
     },
     "execution_count": 38,
     "metadata": {},
     "output_type": "execute_result"
    }
   ],
   "source": [
    "seq3 = \"ATGCATGCTGCATGACTCTGACT\"\n",
    "seq3 = seq3[::-1]     #reversing the string\n",
    "seq3 = seq3.replace(\"A\", \"t\").replace(\"C\", \"g\").replace(\"T\", \"a\").replace(\"G\", \"c\")  #making a complementary string\n",
    "seq3 = seq3.upper()\n",
    "seq3"
   ]
  },
  {
   "cell_type": "code",
   "execution_count": 42,
   "id": "f06d706d",
   "metadata": {},
   "outputs": [
    {
     "data": {
      "text/plain": [
       "'GCATACAGCATTTTTTTAGCATT'"
      ]
     },
     "execution_count": 42,
     "metadata": {},
     "output_type": "execute_result"
    }
   ],
   "source": [
    "#alternate method\n",
    "\n",
    "def ReverseCompliment(seq):\n",
    "    up = seq.upper()\n",
    "    reverse = up[:: -1]\n",
    "    compliment = reverse.replace(\"A\", \"t\").replace(\"C\", \"g\").replace(\"T\", \"a\").replace(\"G\", \"c\")\n",
    "    rc = compliment.upper()\n",
    "    return rc\n",
    "\n",
    "ReverseCompliment(\"AATGCTaaaaaaatgctgtATGC\")"
   ]
  },
  {
   "cell_type": "markdown",
   "id": "a43b4c3d",
   "metadata": {},
   "source": [
    "**Check if a sequence is dna or rna and print likewise**"
   ]
  },
  {
   "cell_type": "code",
   "execution_count": 41,
   "id": "df238053",
   "metadata": {},
   "outputs": [
    {
     "name": "stdout",
     "output_type": "stream",
     "text": [
      "seqA is RNA\n",
      "seqB is DNA\n"
     ]
    }
   ],
   "source": [
    "seqA = \"AGCUACGAACUG\"\n",
    "seqB = \"AGCTAGCTTGAC\"\n",
    "\n",
    "if \"U\" not in seqA:\n",
    "    print(\"seqA is DNA\")\n",
    "else:\n",
    "    print(\"seqA is RNA\")\n",
    "    \n",
    "if \"U\" not in seqB:\n",
    "    print(\"seqB is DNA\")\n",
    "else:\n",
    "    print(\"seqB is RNA\")"
   ]
  },
  {
   "cell_type": "code",
   "execution_count": 46,
   "id": "be0aaef3",
   "metadata": {},
   "outputs": [
    {
     "data": {
      "text/plain": [
       "'This is a RNA sequence'"
      ]
     },
     "execution_count": 46,
     "metadata": {},
     "output_type": "execute_result"
    }
   ],
   "source": [
    "#alternate method\n",
    "\n",
    "def RNAorDNA(seq):\n",
    "    seq=seq.upper()\n",
    "    if seq.find(\"U\") == -1:       #find function finds a letter and indexes it as +1, so a dna sequence needs -1\n",
    "        return 'This is a DNA sequence'\n",
    "    else:\n",
    "        return 'This is a RNA sequence'\n",
    "    \n",
    "RNAorDNA(\"AGCUACGAACUG\")"
   ]
  },
  {
   "cell_type": "markdown",
   "id": "048f3011",
   "metadata": {},
   "source": [
    "**Read a fasta file and print**\n",
    "\n",
    "**1. length of the sequence**\n",
    "**2. how many ATAT you encounter?**\n",
    "**3. what is the GC %?**"
   ]
  },
  {
   "cell_type": "code",
   "execution_count": 1,
   "id": "b12ec6af",
   "metadata": {},
   "outputs": [
    {
     "data": {
      "text/plain": [
       "'GTGTCGGAGGCTCCATCGACATGGAACGAGCGGTGGCAAGAAGTTACTAATGAGCTGCTGTCACAGTCTCAGGACCCGGAAAGTGGTATTTCCATTACGCGACAGCAAAGCGCCTACCTGCGTCTGGTTAAACCAGTTGCTTTTGTAGAGGGTATTGCCGTTTTAAGCGTTCCTCACGCCCGAGCGAAAAAAGAGATTGAAACTACGCTGGGACCTGTTATCACAGAGGTATTGTCTCGTAGACTAGGTCGACAATACAGTCTTGCAGTGAGCGTTCATGCTCCAGAGGAAAATCCAGAAGTATCCTCGGCCACTCCAGATGCTGTGTCTTATTACCAGGAACAATCTGCAGTTTCTGGACAATACGGAGCAACTTCAGCCAATGCTGACTTCCAGAATCAACAAAGCACGATATATCGCAAGCCACAGGAGTCGCAGTATCCTGTGACTTTTGGTGCTTCTTCATACGGAAATGAGAAGTACCAGGAAAATTCCCAAGACCAGGGCATTTCTCATCATCCTTATGGTTTTAATGAGGCTCAACGCATTGCTTCATCTGCCTCTCATGCTGTTCCGCAAAGTGGTTCTGAGCTACTGCAC'"
      ]
     },
     "execution_count": 1,
     "metadata": {},
     "output_type": "execute_result"
    }
   ],
   "source": [
    "with open(r\"C:\\Users\\User\\Desktop\\Programming\\Python\\learning python\\data\\sample.fasta\", encoding='utf-8-sig') as f:\n",
    "    seq = f.read()\n",
    "seq"
   ]
  },
  {
   "cell_type": "code",
   "execution_count": 2,
   "id": "9c7512e9",
   "metadata": {},
   "outputs": [],
   "source": [
    "seq=seq.upper()"
   ]
  },
  {
   "cell_type": "code",
   "execution_count": 3,
   "id": "ec1f55e5",
   "metadata": {},
   "outputs": [
    {
     "data": {
      "text/plain": [
       "600"
      ]
     },
     "execution_count": 3,
     "metadata": {},
     "output_type": "execute_result"
    }
   ],
   "source": [
    "len(seq)"
   ]
  },
  {
   "cell_type": "code",
   "execution_count": 4,
   "id": "fe67e8ea",
   "metadata": {},
   "outputs": [
    {
     "data": {
      "text/plain": [
       "1"
      ]
     },
     "execution_count": 4,
     "metadata": {},
     "output_type": "execute_result"
    }
   ],
   "source": [
    "seq.count(\"ATAT\")"
   ]
  },
  {
   "cell_type": "code",
   "execution_count": 5,
   "id": "adeba24a",
   "metadata": {},
   "outputs": [
    {
     "name": "stdout",
     "output_type": "stream",
     "text": [
      "GC content is 48.16666666666667 %\n"
     ]
    }
   ],
   "source": [
    "per_GC= (seq.count('C') + seq.count('G')) / len(seq) * 100\n",
    "print(\"GC content is\", per_GC, \"%\")"
   ]
  },
  {
   "cell_type": "code",
   "execution_count": 2,
   "id": "f82ebc21",
   "metadata": {},
   "outputs": [
    {
     "data": {
      "text/plain": [
       "'GTGTCGGAGGCTCCATCGACATGGAACGAGCGGTGGCAAGAAGTTACTAATGAGCTGCTGTCACAGTCTCAGGACCCGGAAAGTGGTATTTCCATTACGCGACAGCAAAGCGCCTACCTGCGTCTGGTTAAACCAGTTGCTTTTGTAGAGGGTATTGCCGTTTTAAGCGTTCCTCACGCCCGAGCGAAAAAAGAGATTGAAACTACGCTGGGACCTGTTATCACAGAGGTATTGTCTCGTAGACTAGGTCGACAATACAGTCTTGCAGTGAGCGTTCATGCTCCAGAGGAAAATCCAGAAGTATCCTCGGCCACTCCAGATGCTGTGTCTTATTACCAGGAACAATCTGCAGTTTCTGGACAATACGGAGCAACTTCAGCCAATGCTGACTTCCAGAATCAACAAAGCACGATATATCGCAAGCCACAGGAGTCGCAGTATCCTGTGACTTTTGGTGCTTCTTCATACGGAAATGAGAAGTACCAGGAAAATTCCCAAGACCAGGGCATTTCTCATCATCCTTATGGTTTTAATGAGGCTCAACGCATTGCTTCATCTGCCTCTCATGCTGTTCCGCAAAGTGGTTCTGAGCTACTGCAC'"
      ]
     },
     "execution_count": 2,
     "metadata": {},
     "output_type": "execute_result"
    }
   ],
   "source": [
    "#alternate way to read\n",
    "\n",
    "f = open(r\"C:\\Users\\User\\Desktop\\Programming\\Python\\learning python\\data\\sample.fasta\", \"r\")\n",
    "seq = f.read()\n",
    "  \n",
    "seq = seq.replace(\"\\n\", \"\")\n",
    "seq = seq.replace(\"\\r\", \"\")\n",
    "seq"
   ]
  },
  {
   "cell_type": "code",
   "execution_count": 3,
   "id": "fed15c73",
   "metadata": {},
   "outputs": [
    {
     "name": "stdout",
     "output_type": "stream",
     "text": [
      "600\n"
     ]
    }
   ],
   "source": [
    "print(len(seq))"
   ]
  },
  {
   "cell_type": "markdown",
   "id": "12ee713b",
   "metadata": {},
   "source": [
    " "
   ]
  },
  {
   "cell_type": "markdown",
   "id": "86e15d8f",
   "metadata": {},
   "source": [
    "**Write s function that converts mRNA input to a protein**\n",
    "\n",
    "Write a function mrna_to_protein that takes an mRNA sequence (as a string) and returns the sequence of amino acids (as a string), stopping the first time a Stop codon is encountered. Make sure that the file is only read once when running the script (and not every time you want to translate a codon). You will likely need to use a Python dictionary to help.\n",
    "\n",
    "Finally, write a function dna_to_protein that takes a DNA sequence (as a string) and returns the sequence of amino acids (as a string), making use of the functions that you wrote previously.\n",
    "\n",
    "Print out the amino acid sequence for the following DNA sequence:\n",
    "\n",
    "AATCTCTACGGAAGTAGGTCAGTACTGATCGATCAGTCGATCGGGCGGCGATTTCGATCTGATTGTACGGCGGGCTAG"
   ]
  },
  {
   "cell_type": "code",
   "execution_count": 72,
   "id": "6d7342cf",
   "metadata": {},
   "outputs": [
    {
     "data": {
      "text/plain": [
       "'AAUCUCUACGGAAGUAGGUCAGUACUGAUCGAUCAGUCGAUCGGGCGGCGAUUUCGAUCUGAUUGUACGGCGGGCUAG'"
      ]
     },
     "execution_count": 72,
     "metadata": {},
     "output_type": "execute_result"
    }
   ],
   "source": [
    "#finding the mRNA sequence\n",
    "\n",
    "DNA_seq = \"AATCTCTACGGAAGTAGGTCAGTACTGATCGATCAGTCGATCGGGCGGCGATTTCGATCTGATTGTACGGCGGGCTAG\"\n",
    "\n",
    "def DNA_to_RNA(DNA_seq):\n",
    "    mRNA = DNA_seq.replace(\"T\", \"U\")\n",
    "    return mRNA\n",
    "    \n",
    "DNA_to_RNA(\"AATCTCTACGGAAGTAGGTCAGTACTGATCGATCAGTCGATCGGGCGGCGATTTCGATCTGATTGTACGGCGGGCTAG\")"
   ]
  },
  {
   "cell_type": "code",
   "execution_count": 79,
   "id": "0b7fc90d",
   "metadata": {},
   "outputs": [
    {
     "data": {
      "text/plain": [
       "'NLYGSRSVLIDQSIGRRFRSDCTAG'"
      ]
     },
     "execution_count": 79,
     "metadata": {},
     "output_type": "execute_result"
    }
   ],
   "source": [
    "#mRNA to protein\n",
    "\n",
    "def mRNA_to_protein(mRNA):\n",
    "    key = {\"UUU\":\"F\", \"UUC\":\"F\", \"UUA\":\"L\", \"UUG\":\"L\", \"UCU\":\"S\", \"UCC\":\"S\", \"UCA\":\"S\", \"UCG\":\"S\",\n",
    "           \"UAU\":\"Y\", \"UAC\":\"Y\", \"UAA\":\"stop\", \"UAG\":\"stop\", \"UGU\":\"C\", \"UGC\":\"C\", \"UGA\":\"stop\", \n",
    "           \"UGG\":\"W\", \"CUU\":\"L\", \"CUC\":\"L\", \"CUA\":\"L\", \"CUG\":\"L\", \"CCU\":\"P\", \"CCC\":\"P\", \"CCA\":\"P\", \"CCG\":\"P\",\n",
    "           \"CAU\":\"H\", \"CAC\":\"H\", \"CAA\":\"Q\", \"CAG\":\"Q\", \"CGU\":\"R\", \"CGC\":\"R\", \"CGA\":\"R\", \"CGG\":\"R\",\n",
    "           \"AUU\":\"I\", \"AUC\":\"I\", \"AUA\":\"I\", \"AUG\":\"M\", \"ACU\":\"T\", \"ACC\":\"T\", \"ACA\":\"T\", \"ACG\":\"T\",\n",
    "           \"AAU\":\"N\", \"AAC\":\"N\", \"AAA\":\"K\", \"AAG\":\"K\", \"AGU\":\"S\", \"AGC\":\"S\", \"AGA\":\"R\", \"AGG\":\"R\",\n",
    "           \"GUU\":\"V\", \"GUC\":\"V\", \"GUA\":\"V\", \"GUG\":\"V\", \"GCU\":\"A\", \"GCC\":\"A\", \"GCA\":\"A\", \"GCG\":\"A\",\n",
    "           \"GAU\":\"D\", \"GAC\":\"D\", \"GAA\":\"E\", \"GAG\":\"E\", \"GGU\":\"G\", \"GGC\":\"G\", \"GGA\":\"G\", \"GGG\":\"G\",}\n",
    "    protein = \"\"\n",
    "    if len(mRNA)%3 == 0:\n",
    "        for i in range(0, len(mRNA), 3):\n",
    "            codon = mRNA[i: i+3]\n",
    "            aa = key.get(codon)\n",
    "            if aa == \"stop\":\n",
    "                break\n",
    "            protein+= key[codon]\n",
    "        return protein\n",
    "        \n",
    "mRNA_to_protein(\"AAUCUCUACGGAAGUAGGUCAGUACUGAUCGAUCAGUCGAUCGGGCGGCGAUUUCGAUCUGAUUGUACGGCGGGCUAG\")"
   ]
  },
  {
   "cell_type": "code",
   "execution_count": 78,
   "id": "eb437047",
   "metadata": {},
   "outputs": [
    {
     "data": {
      "text/plain": [
       "'NLYGSRSVLIDQSIGRRFRSDCTAG'"
      ]
     },
     "execution_count": 78,
     "metadata": {},
     "output_type": "execute_result"
    }
   ],
   "source": [
    "#DNA to protein\n",
    "\n",
    "def DNA_to_protein(DNA_seq):\n",
    "    mRNA = DNA_to_RNA(DNA_seq)\n",
    "    protein = mRNA_to_protein(mRNA)\n",
    "    return protein\n",
    "\n",
    "DNA_to_protein(\"AATCTCTACGGAAGTAGGTCAGTACTGATCGATCAGTCGATCGGGCGGCGATTTCGATCTGATTGTACGGCGGGCTAG\")"
   ]
  },
  {
   "cell_type": "markdown",
   "id": "0924760a",
   "metadata": {},
   "source": [
    "**Calculate frequency of every amino acid in the format of a dataframe for a particular protein sequence**"
   ]
  },
  {
   "cell_type": "code",
   "execution_count": 90,
   "id": "74518869",
   "metadata": {},
   "outputs": [],
   "source": [
    "import pandas as pd"
   ]
  },
  {
   "cell_type": "code",
   "execution_count": 93,
   "id": "2d90e540",
   "metadata": {},
   "outputs": [
    {
     "name": "stdout",
     "output_type": "stream",
     "text": [
      "{'M': 11, 'C': 1, 'H': 2, 'U': 1, 'A': 11, 'D': 17, 'Q': 6, 'L': 9, 'T': 12, 'E': 21, 'I': 8, 'F': 8, 'K': 8, 'S': 4, 'G': 11, 'V': 7, 'R': 6, 'N': 6, 'P': 2, 'Y': 2}\n"
     ]
    }
   ],
   "source": [
    "seq = \"MCHUMADQLTEEQIAEFKEAFSLFDKDGDGTITTKELGTVMRSLGQNPTEAELQDMINEVDADGNGTIDFPEFLTMMARKMKDTDSEEEIREAFRVFDKDGNGYISAAELRHVMTNLGEKLTDEEVDEMIREADIDGDGQVNYEEFVQMMTAK\"\n",
    "\n",
    "d1 = dict()\n",
    "for i in seq:\n",
    "    if i in d1:\n",
    "        d1[i] += 1\n",
    "    else:\n",
    "        d1[i] = 1\n",
    "print(d1)"
   ]
  },
  {
   "cell_type": "code",
   "execution_count": 104,
   "id": "cb183e9e",
   "metadata": {},
   "outputs": [
    {
     "data": {
      "text/html": [
       "<div>\n",
       "<style scoped>\n",
       "    .dataframe tbody tr th:only-of-type {\n",
       "        vertical-align: middle;\n",
       "    }\n",
       "\n",
       "    .dataframe tbody tr th {\n",
       "        vertical-align: top;\n",
       "    }\n",
       "\n",
       "    .dataframe thead th {\n",
       "        text-align: right;\n",
       "    }\n",
       "</style>\n",
       "<table border=\"1\" class=\"dataframe\">\n",
       "  <thead>\n",
       "    <tr style=\"text-align: right;\">\n",
       "      <th></th>\n",
       "      <th>Freq</th>\n",
       "    </tr>\n",
       "    <tr>\n",
       "      <th>Amino acid</th>\n",
       "      <th></th>\n",
       "    </tr>\n",
       "  </thead>\n",
       "  <tbody>\n",
       "    <tr>\n",
       "      <th>M</th>\n",
       "      <td>11</td>\n",
       "    </tr>\n",
       "    <tr>\n",
       "      <th>C</th>\n",
       "      <td>1</td>\n",
       "    </tr>\n",
       "    <tr>\n",
       "      <th>H</th>\n",
       "      <td>2</td>\n",
       "    </tr>\n",
       "    <tr>\n",
       "      <th>U</th>\n",
       "      <td>1</td>\n",
       "    </tr>\n",
       "    <tr>\n",
       "      <th>A</th>\n",
       "      <td>11</td>\n",
       "    </tr>\n",
       "    <tr>\n",
       "      <th>D</th>\n",
       "      <td>17</td>\n",
       "    </tr>\n",
       "    <tr>\n",
       "      <th>Q</th>\n",
       "      <td>6</td>\n",
       "    </tr>\n",
       "    <tr>\n",
       "      <th>L</th>\n",
       "      <td>9</td>\n",
       "    </tr>\n",
       "    <tr>\n",
       "      <th>T</th>\n",
       "      <td>12</td>\n",
       "    </tr>\n",
       "    <tr>\n",
       "      <th>E</th>\n",
       "      <td>21</td>\n",
       "    </tr>\n",
       "    <tr>\n",
       "      <th>I</th>\n",
       "      <td>8</td>\n",
       "    </tr>\n",
       "    <tr>\n",
       "      <th>F</th>\n",
       "      <td>8</td>\n",
       "    </tr>\n",
       "    <tr>\n",
       "      <th>K</th>\n",
       "      <td>8</td>\n",
       "    </tr>\n",
       "    <tr>\n",
       "      <th>S</th>\n",
       "      <td>4</td>\n",
       "    </tr>\n",
       "    <tr>\n",
       "      <th>G</th>\n",
       "      <td>11</td>\n",
       "    </tr>\n",
       "    <tr>\n",
       "      <th>V</th>\n",
       "      <td>7</td>\n",
       "    </tr>\n",
       "    <tr>\n",
       "      <th>R</th>\n",
       "      <td>6</td>\n",
       "    </tr>\n",
       "    <tr>\n",
       "      <th>N</th>\n",
       "      <td>6</td>\n",
       "    </tr>\n",
       "    <tr>\n",
       "      <th>P</th>\n",
       "      <td>2</td>\n",
       "    </tr>\n",
       "    <tr>\n",
       "      <th>Y</th>\n",
       "      <td>2</td>\n",
       "    </tr>\n",
       "  </tbody>\n",
       "</table>\n",
       "</div>"
      ],
      "text/plain": [
       "            Freq\n",
       "Amino acid      \n",
       "M             11\n",
       "C              1\n",
       "H              2\n",
       "U              1\n",
       "A             11\n",
       "D             17\n",
       "Q              6\n",
       "L              9\n",
       "T             12\n",
       "E             21\n",
       "I              8\n",
       "F              8\n",
       "K              8\n",
       "S              4\n",
       "G             11\n",
       "V              7\n",
       "R              6\n",
       "N              6\n",
       "P              2\n",
       "Y              2"
      ]
     },
     "execution_count": 104,
     "metadata": {},
     "output_type": "execute_result"
    }
   ],
   "source": [
    "df = pd.DataFrame(d1.items(), columns=['Amino acid', 'Freq'])\n",
    "df.set_index('Amino acid')"
   ]
  },
  {
   "cell_type": "code",
   "execution_count": null,
   "id": "e3875033",
   "metadata": {},
   "outputs": [],
   "source": []
  }
 ],
 "metadata": {
  "kernelspec": {
   "display_name": "Python 3 (ipykernel)",
   "language": "python",
   "name": "python3"
  },
  "language_info": {
   "codemirror_mode": {
    "name": "ipython",
    "version": 3
   },
   "file_extension": ".py",
   "mimetype": "text/x-python",
   "name": "python",
   "nbconvert_exporter": "python",
   "pygments_lexer": "ipython3",
   "version": "3.9.13"
  }
 },
 "nbformat": 4,
 "nbformat_minor": 5
}
