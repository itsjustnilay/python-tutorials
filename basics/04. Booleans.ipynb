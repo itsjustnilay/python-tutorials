{
 "cells": [
  {
   "cell_type": "markdown",
   "id": "02cd163b",
   "metadata": {},
   "source": [
    "# <u>Booleans </u>\n",
    "\n",
    "Python has a type of variable called bool. It has two possible values: True and False."
   ]
  },
  {
   "cell_type": "code",
   "execution_count": 1,
   "id": "e253c8b5",
   "metadata": {},
   "outputs": [
    {
     "name": "stdout",
     "output_type": "stream",
     "text": [
      "True\n",
      "<class 'bool'>\n"
     ]
    }
   ],
   "source": [
    "x = True\n",
    "print(x)\n",
    "print(type(x))"
   ]
  },
  {
   "cell_type": "markdown",
   "id": "eedf3b5b",
   "metadata": {},
   "source": [
    "Rather than putting True or False directly in our code, we usually get boolean values from boolean operators. These are operators that answer yes/no questions. We'll go through some of these operators below."
   ]
  },
  {
   "cell_type": "markdown",
   "id": "6e9b01ef",
   "metadata": {},
   "source": [
    "### Comparison Operations\n",
    "\n",
    "| Operation | Description |\tOperation |\tDescription |\n",
    "| ---- | ---- | ---- | ---- |\n",
    "| a == b | a equal to b | a != b | a not equal to b |\n",
    "| a < b | a less than b | a > b | a greater than b |\n",
    "| a <= b | a less than or equal to b | a >= b | a greater than or equal to b |"
   ]
  },
  {
   "cell_type": "code",
   "execution_count": 2,
   "id": "07a60fec",
   "metadata": {},
   "outputs": [
    {
     "name": "stdout",
     "output_type": "stream",
     "text": [
      "Can a 19-year-old run for president? False\n",
      "Can a 45-year-old run for president? True\n"
     ]
    }
   ],
   "source": [
    "def can_run_for_president(age):\n",
    "    # Can someone of the given age run for president in the US?\"\"\"\n",
    "    # The US Constitution says you must be at least 35 years old\n",
    "    return age >= 35\n",
    "\n",
    "print(\"Can a 19-year-old run for president?\", can_run_for_president(19))\n",
    "print(\"Can a 45-year-old run for president?\", can_run_for_president(45))"
   ]
  },
  {
   "cell_type": "markdown",
   "id": "b96b3e7c",
   "metadata": {},
   "source": [
    "Comparisons frequently work like you'd hope:"
   ]
  },
  {
   "cell_type": "code",
   "execution_count": 5,
   "id": "ea29a41e",
   "metadata": {},
   "outputs": [
    {
     "data": {
      "text/plain": [
       "True"
      ]
     },
     "execution_count": 5,
     "metadata": {},
     "output_type": "execute_result"
    }
   ],
   "source": [
    "5.0 == 5"
   ]
  },
  {
   "cell_type": "markdown",
   "id": "9d2b245e",
   "metadata": {},
   "source": [
    "And sometimes not so much:"
   ]
  },
  {
   "cell_type": "code",
   "execution_count": 7,
   "id": "d556f06f",
   "metadata": {},
   "outputs": [
    {
     "data": {
      "text/plain": [
       "False"
      ]
     },
     "execution_count": 7,
     "metadata": {},
     "output_type": "execute_result"
    }
   ],
   "source": [
    "'5' == 5"
   ]
  },
  {
   "cell_type": "markdown",
   "id": "ec6b9fb4",
   "metadata": {},
   "source": [
    "Comparison operators can be combined with the arithmetic operators we've already seen to express a virtually limitless range of mathematical tests. For example, we can check if a number is odd by checking that the modulus with 2 returns 1:"
   ]
  },
  {
   "cell_type": "code",
   "execution_count": 8,
   "id": "c0f09879",
   "metadata": {},
   "outputs": [
    {
     "name": "stdout",
     "output_type": "stream",
     "text": [
      "Is 100 odd? False\n",
      "Is -1 odd? True\n"
     ]
    }
   ],
   "source": [
    "def is_odd(n):\n",
    "    return (n % 2) == 1\n",
    "\n",
    "print(\"Is 100 odd?\", is_odd(100))\n",
    "print(\"Is -1 odd?\", is_odd(-1))"
   ]
  },
  {
   "cell_type": "markdown",
   "id": "13350b1b",
   "metadata": {},
   "source": [
    "### Combining Boolean Values\n",
    "You can combine boolean values using the standard concepts of **\"and\", \"or\",** and **\"not\"**. In fact, the words to do this are: and, or, and not.\n",
    "\n",
    "With these, we can make our can_run_for_president function more accurate."
   ]
  },
  {
   "cell_type": "code",
   "execution_count": 9,
   "id": "8806f85b",
   "metadata": {},
   "outputs": [
    {
     "name": "stdout",
     "output_type": "stream",
     "text": [
      "False\n",
      "False\n",
      "True\n"
     ]
    }
   ],
   "source": [
    "def can_run_for_president(age, is_natural_born_citizen):\n",
    "    # Can someone of the given age and citizenship status run for president in the US?\"\"\"\n",
    "    # The US Constitution says you must be a natural born citizen *and* at least 35 years old\n",
    "    return is_natural_born_citizen and (age >= 35)\n",
    "\n",
    "print(can_run_for_president(19, True))\n",
    "print(can_run_for_president(55, False))\n",
    "print(can_run_for_president(55, True))"
   ]
  },
  {
   "cell_type": "markdown",
   "id": "bec91b22",
   "metadata": {},
   "source": [
    "Consider this code:"
   ]
  },
  {
   "cell_type": "code",
   "execution_count": 10,
   "id": "90e24532",
   "metadata": {},
   "outputs": [
    {
     "data": {
      "text/plain": [
       "True"
      ]
     },
     "execution_count": 10,
     "metadata": {},
     "output_type": "execute_result"
    }
   ],
   "source": [
    "True or True and False"
   ]
  },
  {
   "cell_type": "markdown",
   "id": "9d296d24",
   "metadata": {},
   "source": [
    "'and' is evaluated before 'or'. That's why the first expression above is True. If we evaluated it from left to right, we would have calculated True or True first (which is True), and then taken the and of that result with False, giving a final value of False.\n",
    "\n",
    "You could try to memorize the order of precedence, but a safer bet is to just use liberal parentheses. Not only does this help prevent bugs, it makes your intentions clearer to anyone who reads your code.\n",
    "\n",
    "order of precedence: https://docs.python.org/3/reference/expressions.html#operator-precedence"
   ]
  },
  {
   "cell_type": "markdown",
   "id": "d21a2885",
   "metadata": {},
   "source": [
    "For example, consider the following expression:\n",
    "\n",
    "**prepared_for_weather = have_umbrella or rain_level < 5 and have_hood or not rain_level > 0 and is_workday**\n",
    "\n",
    "I'm trying to say that I'm safe from today's weather....\n",
    "\n",
    "* if I have an umbrella...\n",
    "* or if the rain isn't too heavy and I have a hood...\n",
    "* otherwise, I'm still fine unless it's raining and it's a workday.\n",
    "\n",
    "But not only is my Python code hard to read, it has a bug. We can address both problems by adding some parentheses:\n",
    "\n",
    "**prepared_for_weather = have_umbrella or (rain_level < 5 and have_hood) or not (rain_level > 0 and is_workday)**\n",
    "\n",
    "You can add even more parentheses if you think it helps readability:\n",
    "\n",
    "**prepared_for_weather = have_umbrella or ((rain_level < 5) and have_hood) or (not (rain_level > 0 and is_workday))** \n",
    "\n",
    "We can also split it over multiple lines to emphasize the 3-part structure described above:"
   ]
  },
  {
   "cell_type": "code",
   "execution_count": 13,
   "id": "5f01b52f",
   "metadata": {},
   "outputs": [],
   "source": [
    "# prepared_for_weather = (\n",
    "#    have_umbrella \n",
    "#    or ((rain_level < 5) and have_hood) \n",
    "#    or (not (rain_level > 0 and is_workday))\n",
    "# )"
   ]
  },
  {
   "cell_type": "markdown",
   "id": "05e83aad",
   "metadata": {},
   "source": [
    "### Boolean conversion\n",
    "We've seen int(), which turns things into ints, and float(), which turns things into floats, so you might not be surprised to hear that Python has a bool() function which turns things into bools."
   ]
  },
  {
   "cell_type": "code",
   "execution_count": 14,
   "id": "c59bad9f",
   "metadata": {},
   "outputs": [
    {
     "name": "stdout",
     "output_type": "stream",
     "text": [
      "True\n",
      "False\n",
      "True\n",
      "False\n"
     ]
    }
   ],
   "source": [
    "print(bool(1)) # all numbers are treated as true, except 0\n",
    "print(bool(0))\n",
    "print(bool(\"asf\")) # all strings are treated as true, except the empty string \"\"\n",
    "print(bool(\"\"))\n",
    "# Generally empty sequences (strings, lists, and other types we've yet to see like lists and tuples)\n",
    "# are \"falsey\" and the rest are \"truthy\""
   ]
  },
  {
   "cell_type": "markdown",
   "id": "743372f7",
   "metadata": {},
   "source": [
    "We can use non-boolean objects in if conditions and other places where a boolean would be expected. Python will implicitly treat them as their corresponding boolean value:"
   ]
  },
  {
   "cell_type": "code",
   "execution_count": 15,
   "id": "cf1fc38f",
   "metadata": {},
   "outputs": [
    {
     "name": "stdout",
     "output_type": "stream",
     "text": [
      "spam\n"
     ]
    }
   ],
   "source": [
    "if 0:\n",
    "    print(0)\n",
    "elif \"spam\":\n",
    "    print(\"spam\")"
   ]
  },
  {
   "cell_type": "markdown",
   "id": "a67b4c44",
   "metadata": {},
   "source": [
    "### Combining with conditionals\n",
    "\n",
    "Booleans are most useful when combined with conditional statements, using the keywords if, elif, and else.\n",
    "\n",
    "Conditional statements, often referred to as if-then statements, let you control what pieces of code are run based on the value of some Boolean condition. Here's an example:"
   ]
  },
  {
   "cell_type": "code",
   "execution_count": 21,
   "id": "2af14044",
   "metadata": {},
   "outputs": [
    {
     "name": "stdout",
     "output_type": "stream",
     "text": [
      "0 is zero\n",
      "-10 is negative\n"
     ]
    }
   ],
   "source": [
    "def inspect(x):\n",
    "    if x == 0:\n",
    "        print(x, \"is zero\")\n",
    "    elif x > 0:\n",
    "        print(x, \"is positive\")\n",
    "    elif x < 0:\n",
    "        print(x, \"is negative\")\n",
    "    else:\n",
    "        print(x, \"is unlike anything I've ever seen...\")\n",
    "        \n",
    "inspect(0)\n",
    "inspect(-10)"
   ]
  },
  {
   "cell_type": "markdown",
   "id": "de06a001",
   "metadata": {},
   "source": [
    "The if and else keywords are often used in other languages; its more unique keyword is elif, a contraction of \"else if\". In these conditional clauses, elif and else blocks are optional; additionally, you can include as many elif statements as you would like.\n",
    "\n",
    "Note especially the use of colons (:) and whitespace to denote separate blocks of code. This is similar to what happens when we define a function - the function header ends with :, and the following line is indented with 4 spaces. All subsequent indented lines belong to the body of the function, until we encounter an unindented line, ending the function definition."
   ]
  },
  {
   "cell_type": "code",
   "execution_count": 22,
   "id": "26608561",
   "metadata": {},
   "outputs": [
    {
     "name": "stdout",
     "output_type": "stream",
     "text": [
      "Only printed when x is positive; x = 1\n",
      "Also only printed when x is positive; x = 1\n",
      "Always printed, regardless of x's value; x = 1\n",
      "Always printed, regardless of x's value; x = 0\n"
     ]
    }
   ],
   "source": [
    "def f(x):\n",
    "    if x > 0:\n",
    "        print(\"Only printed when x is positive; x =\", x)\n",
    "        print(\"Also only printed when x is positive; x =\", x)\n",
    "    print(\"Always printed, regardless of x's value; x =\", x)\n",
    "\n",
    "f(1)\n",
    "f(0)"
   ]
  },
  {
   "cell_type": "code",
   "execution_count": null,
   "id": "abbf878e",
   "metadata": {},
   "outputs": [],
   "source": [
    " "
   ]
  }
 ],
 "metadata": {
  "kernelspec": {
   "display_name": "Python 3 (ipykernel)",
   "language": "python",
   "name": "python3"
  },
  "language_info": {
   "codemirror_mode": {
    "name": "ipython",
    "version": 3
   },
   "file_extension": ".py",
   "mimetype": "text/x-python",
   "name": "python",
   "nbconvert_exporter": "python",
   "pygments_lexer": "ipython3",
   "version": "3.9.12"
  }
 },
 "nbformat": 4,
 "nbformat_minor": 5
}
