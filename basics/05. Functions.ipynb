{
 "cells": [
  {
   "cell_type": "markdown",
   "id": "7ccec6cb",
   "metadata": {},
   "source": [
    "# <u>FUNCTIONS</u>"
   ]
  },
  {
   "cell_type": "markdown",
   "id": "27ad1302",
   "metadata": {},
   "source": [
    "A function is a block of code which only runs when it is called. You can pass data, known as parameters, into a function. A function can return data as a result. So, a function is a block of reusable code that is used to perform a specific action. The advantages of using functions are:\n",
    "\n",
    "* Reducing duplication of code\n",
    "* Decomposing complex problems into simpler pieces\n",
    "* Improving clarity of the code\n",
    "* Reuse of code\n",
    "* Information hiding\n",
    "\n",
    "Functions in Python are first-class citizens. It means that functions have equal status with other objects in Python. Functions can be assigned to variables, stored in collections, or passed as arguments. This brings additional flexibility to the language.\n",
    "\n",
    "### Python function types:\n",
    "There are two basic types of functions: \n",
    "* **built-in functions**: They are part of the Python language; for instance dir, len, or abs. \n",
    "* **user defined functions**: they are functions created with the def keyword.\n",
    "\n",
    "### Creating a Function:\n",
    "1. In Python a function is defined using the **def** keyword. The statements in the block of the function must be indented.\n",
    "\n",
    "2. The def keyword is followed by the function name with round brackets and a colon. \n",
    "3. Information can be passed into functions as arguments. Arguments are specified after the function name, inside the parentheses. You can add as many arguments as you want, just separate them with a comma.\n",
    "4. The indented statements form a body of the function.\n",
    "\n",
    "5. The function is later executed when needed. We say that we call the function. If we call a function, the statements inside the function body are executed. They are not executed until the function is called.\n",
    "6. To call a function, we specify the function name with the round brackets."
   ]
  },
  {
   "cell_type": "code",
   "execution_count": 4,
   "id": "fc38c110",
   "metadata": {},
   "outputs": [
    {
     "name": "stdout",
     "output_type": "stream",
     "text": [
      "enter a: 5\n",
      "enter b: 2\n",
      "a is greater\n"
     ]
    }
   ],
   "source": [
    "# this code is written to find the greater number of the ones inputted in the function\n",
    "\n",
    "def compare(a,b): #def is used to make a command. compare is the function we made. 'a' and 'b' are arguments\n",
    "    if a > b:\n",
    "        print(\"a is greater\")\n",
    "    else:\n",
    "        print(\"b is greater\")     \n",
    "        \n",
    "a = int(input(\"enter a: \"))      # be sure to de-indent after your function block is done\n",
    "b = int(input(\"enter b: \"))\n",
    "compare(a,b)                   # this is calling a function"
   ]
  },
  {
   "cell_type": "code",
   "execution_count": 5,
   "id": "84e585e3",
   "metadata": {},
   "outputs": [
    {
     "name": "stdout",
     "output_type": "stream",
     "text": [
      "8 is not divisible by 3\n",
      "9 is divisible by 3\n"
     ]
    }
   ],
   "source": [
    "# write a program to find which of the two numbers given is divisible by 3\n",
    "\n",
    "def divby3(x,y):\n",
    "    if x%3 == 0:\n",
    "        print(x, \"is divisible by 3\")\n",
    "    else:\n",
    "        print(x, \"is not divisible by 3\")\n",
    "    if y%3 == 0:\n",
    "        print(y, \"is divisible by 3\")\n",
    "    else:\n",
    "        print(y, \"is not divisible by 3\")\n",
    "    \n",
    "divby3(8,9)"
   ]
  },
  {
   "cell_type": "code",
   "execution_count": 6,
   "id": "2c1fd0a2",
   "metadata": {},
   "outputs": [
    {
     "name": "stdout",
     "output_type": "stream",
     "text": [
      "Enter your radius: 21\n"
     ]
    },
    {
     "data": {
      "text/plain": [
       "131.88"
      ]
     },
     "execution_count": 6,
     "metadata": {},
     "output_type": "execute_result"
    }
   ],
   "source": [
    "# write a program to find perimeter of a circle using a function\n",
    "\n",
    "def peri(r):\n",
    "    peri = 2*3.14*r\n",
    "    return peri     # return is used to return a particular value that a function calls\n",
    "\n",
    "r = int(input(\"Enter your radius: \"))\n",
    "peri(r)"
   ]
  },
  {
   "cell_type": "code",
   "execution_count": 7,
   "id": "7b81ef80",
   "metadata": {},
   "outputs": [
    {
     "name": "stdout",
     "output_type": "stream",
     "text": [
      "Enter your length: 10\n",
      "Enter your breadth: 5\n",
      "The perimeter of rectangle is 100\n"
     ]
    }
   ],
   "source": [
    "# write a program to find perimeter of a rectangle using a function\n",
    "\n",
    "def peri(l,b):\n",
    "    peri = 2*l*b\n",
    "    return peri\n",
    "l = int(input(\"Enter your length: \"))\n",
    "b = int(input(\"Enter your breadth: \"))\n",
    "print(\"The perimeter of rectangle is\", peri(l,b))"
   ]
  },
  {
   "cell_type": "code",
   "execution_count": 8,
   "id": "422c6523",
   "metadata": {},
   "outputs": [
    {
     "name": "stdout",
     "output_type": "stream",
     "text": [
      "Enter first number(a): 10\n",
      "Enter first number(b): 12\n",
      "Enter first number(c): 11\n",
      "b is the greatest number\n"
     ]
    }
   ],
   "source": [
    "# write function to find maximum of 3 numbers\n",
    "\n",
    "def max(a,b,c):\n",
    "    if a > b and a>c:\n",
    "        print(\"a is the greatest number\")\n",
    "    elif b>c:\n",
    "        print(\"b is the greatest number\")\n",
    "    else:\n",
    "        print(\"c is the greatest number\")\n",
    "a = int(input(\"Enter first number(a): \"))\n",
    "b = int(input(\"Enter first number(b): \"))\n",
    "c = int(input(\"Enter first number(c): \"))\n",
    "max(a,b,c)"
   ]
  },
  {
   "cell_type": "code",
   "execution_count": 10,
   "id": "17c9c031",
   "metadata": {},
   "outputs": [
    {
     "name": "stdout",
     "output_type": "stream",
     "text": [
      "Enter first number(a): 10\n",
      "Enter second number(b): 21\n",
      "10\n",
      "12\n",
      "14\n",
      "16\n",
      "18\n",
      "20\n"
     ]
    }
   ],
   "source": [
    "# WAP to find all the even numbers between two given numbers?\n",
    "\n",
    "# this functions take 2 nos as input and prints 2 even nos from the range\n",
    "def even(a,b):\n",
    "    for x in range(a,b):\n",
    "        if x%2 == 0:\n",
    "            print(x)\n",
    "a = int(input(\"Enter first number(a): \"))\n",
    "b = int(input(\"Enter second number(b): \"))\n",
    "even(a,b)"
   ]
  },
  {
   "cell_type": "code",
   "execution_count": 13,
   "id": "0b29d958",
   "metadata": {},
   "outputs": [
    {
     "name": "stdout",
     "output_type": "stream",
     "text": [
      "enter value of a = 5\n",
      "enter value of b = 6\n",
      "value of a before swap is 5\n",
      "value of b before swap is 6\n",
      "value of a after swap is 6\n",
      "value of b after swap is 5\n"
     ]
    }
   ],
   "source": [
    "#wap to swap the values of variables. so if a = 4 and b = 5, it should swap values of a and b to 5 and 4\n",
    "def swap(a,b):\n",
    "    c=a\n",
    "    a=b\n",
    "    b=c\n",
    "    print(\"value of a after swap is\", a)\n",
    "    print(\"value of b after swap is\", b)\n",
    "    \n",
    "a = int(input(\"enter value of a = \"))\n",
    "b = int(input(\"enter value of b = \"))\n",
    "print(\"value of a before swap is\", a)\n",
    "print(\"value of b before swap is\", b)\n",
    "swap(a,b)"
   ]
  },
  {
   "cell_type": "code",
   "execution_count": 14,
   "id": "8e3c003c",
   "metadata": {},
   "outputs": [
    {
     "name": "stdout",
     "output_type": "stream",
     "text": [
      "enter your word: scinapoco\n",
      "SCINAPOCO\n"
     ]
    }
   ],
   "source": [
    "#return a word into uppercase\n",
    "\n",
    "def up(a):\n",
    "    print(a.upper())\n",
    "    \n",
    "a = input(\"enter your word: \")\n",
    "up(a)"
   ]
  },
  {
   "cell_type": "code",
   "execution_count": 15,
   "id": "09a08b2e",
   "metadata": {},
   "outputs": [
    {
     "name": "stdout",
     "output_type": "stream",
     "text": [
      "11\n",
      "22\n",
      "33\n",
      "44\n",
      "55\n",
      "66\n",
      "77\n",
      "88\n",
      "99\n"
     ]
    }
   ],
   "source": [
    "#wap which takes a range and prints all numbers divisible by 11 between those two numbers\n",
    "def divi(a,b):\n",
    "    for x in range(a,b):\n",
    "        if x%11 == 0:\n",
    "            print(x)\n",
    "divi(1,101)"
   ]
  },
  {
   "cell_type": "code",
   "execution_count": null,
   "id": "9123599a",
   "metadata": {},
   "outputs": [],
   "source": []
  }
 ],
 "metadata": {
  "kernelspec": {
   "display_name": "Python 3 (ipykernel)",
   "language": "python",
   "name": "python3"
  },
  "language_info": {
   "codemirror_mode": {
    "name": "ipython",
    "version": 3
   },
   "file_extension": ".py",
   "mimetype": "text/x-python",
   "name": "python",
   "nbconvert_exporter": "python",
   "pygments_lexer": "ipython3",
   "version": "3.9.12"
  }
 },
 "nbformat": 4,
 "nbformat_minor": 5
}
