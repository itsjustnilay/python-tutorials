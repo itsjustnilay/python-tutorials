{
 "cells": [
  {
   "cell_type": "markdown",
   "id": "744ad5eb",
   "metadata": {},
   "source": [
    "## LIST COMPREHENSIONS"
   ]
  },
  {
   "cell_type": "markdown",
   "id": "d3a1cf24",
   "metadata": {},
   "source": [
    "A list comprehension is a syntactic construct that enables lists to be created from other lists using a compact, mathematical syntax:"
   ]
  },
  {
   "cell_type": "code",
   "execution_count": 2,
   "id": "a3be811b",
   "metadata": {},
   "outputs": [],
   "source": [
    "numbers = [1, 2, 3, 4]"
   ]
  },
  {
   "cell_type": "code",
   "execution_count": 3,
   "id": "6c3d1216",
   "metadata": {},
   "outputs": [
    {
     "data": {
      "text/plain": [
       "[1, 4, 9, 16]"
      ]
     },
     "execution_count": 3,
     "metadata": {},
     "output_type": "execute_result"
    }
   ],
   "source": [
    "[x**2 for x in numbers]"
   ]
  },
  {
   "cell_type": "code",
   "execution_count": 4,
   "id": "795f12cf",
   "metadata": {},
   "outputs": [
    {
     "data": {
      "text/plain": [
       "[9, 16]"
      ]
     },
     "execution_count": 4,
     "metadata": {},
     "output_type": "execute_result"
    }
   ],
   "source": [
    "[x**2 for x in numbers if x**2 > 8]"
   ]
  },
  {
   "cell_type": "code",
   "execution_count": 5,
   "id": "6a489630",
   "metadata": {},
   "outputs": [
    {
     "data": {
      "text/plain": [
       "[(1, 1, 1), (2, 4, 8), (3, 9, 27), (4, 16, 64)]"
      ]
     },
     "execution_count": 5,
     "metadata": {},
     "output_type": "execute_result"
    }
   ],
   "source": [
    "[(x, x**2, x**3) for x in numbers]"
   ]
  },
  {
   "cell_type": "code",
   "execution_count": 6,
   "id": "b00d8a91",
   "metadata": {},
   "outputs": [
    {
     "data": {
      "text/plain": [
       "['bin', 'Data', 'Desktop']"
      ]
     },
     "execution_count": 6,
     "metadata": {},
     "output_type": "execute_result"
    }
   ],
   "source": [
    "files = ['bin', 'Data', 'Desktop', '.bashrc', '.ssh', '.vimrc']\n",
    "[name for name in files if name[0] != '.']"
   ]
  },
  {
   "cell_type": "code",
   "execution_count": 7,
   "id": "b13b786c",
   "metadata": {},
   "outputs": [
    {
     "data": {
      "text/plain": [
       "['a', 'b', 'c', 'aa', 'bb', 'cc', 'aaa', 'bbb', 'ccc', 'aaaa', 'bbbb', 'cccc']"
      ]
     },
     "execution_count": 7,
     "metadata": {},
     "output_type": "execute_result"
    }
   ],
   "source": [
    "letters = ['a', 'b', 'c']\n",
    "[n * letter for n in numbers for letter in letters]"
   ]
  },
  {
   "cell_type": "markdown",
   "id": "ab2d2c00",
   "metadata": {},
   "source": [
    "The general syntax for a list comprehension expression is:\n",
    "\n",
    "**[expr for  item1 in  seq1 for item2 in seq2 ... for itemx in seqx if condition]**\n",
    "\n",
    "This list expression has the same effect as:"
   ]
  },
  {
   "cell_type": "code",
   "execution_count": null,
   "id": "7d21d595",
   "metadata": {},
   "outputs": [],
   "source": [
    "output_sequence = []\n",
    "for item1 in seq1:\n",
    "    for item2 in seq2:\n",
    "        ...\n",
    "            for itemx in seqx:\n",
    "                if condition:\n",
    "                    output_sequence.append(expr)\n",
    "# the list comprehension is much more compact."
   ]
  },
  {
   "cell_type": "code",
   "execution_count": null,
   "id": "5ca2a6d0",
   "metadata": {},
   "outputs": [],
   "source": []
  },
  {
   "cell_type": "code",
   "execution_count": null,
   "id": "7a8ce1d3",
   "metadata": {},
   "outputs": [],
   "source": []
  },
  {
   "cell_type": "code",
   "execution_count": null,
   "id": "f7582cd1",
   "metadata": {},
   "outputs": [],
   "source": []
  },
  {
   "cell_type": "code",
   "execution_count": null,
   "id": "6b9dd1f0",
   "metadata": {},
   "outputs": [],
   "source": []
  },
  {
   "cell_type": "code",
   "execution_count": 3,
   "id": "e894c9f8",
   "metadata": {
    "scrolled": true
   },
   "outputs": [
    {
     "data": {
      "text/plain": [
       "[3, 4, 5]"
      ]
     },
     "execution_count": 3,
     "metadata": {},
     "output_type": "execute_result"
    }
   ],
   "source": [
    "a = [i+2 for i in [1,2,3]]\n",
    "a"
   ]
  },
  {
   "cell_type": "code",
   "execution_count": null,
   "id": "8ce87d89",
   "metadata": {},
   "outputs": [],
   "source": []
  },
  {
   "cell_type": "code",
   "execution_count": null,
   "id": "22a109b2",
   "metadata": {},
   "outputs": [],
   "source": []
  },
  {
   "cell_type": "code",
   "execution_count": 9,
   "id": "446db095",
   "metadata": {},
   "outputs": [
    {
     "name": "stdout",
     "output_type": "stream",
     "text": [
      "[4, 6, 8]\n"
     ]
    }
   ],
   "source": [
    "a = [2,4,6]\n",
    "b = []\n",
    "for i in a:\n",
    "    b.append(i+2)\n",
    "print(b)"
   ]
  },
  {
   "cell_type": "code",
   "execution_count": 10,
   "id": "9326a4b4",
   "metadata": {},
   "outputs": [
    {
     "name": "stdout",
     "output_type": "stream",
     "text": [
      "[9, 16, 25, 36, 49, 64, 81]\n"
     ]
    }
   ],
   "source": [
    "a = [3,4,5,6,7,8,9]\n",
    "b = []\n",
    "for i in a:\n",
    "    b.append(i**2)\n",
    "print(b)"
   ]
  },
  {
   "cell_type": "code",
   "execution_count": 13,
   "id": "cbbc8bb9",
   "metadata": {},
   "outputs": [
    {
     "name": "stdout",
     "output_type": "stream",
     "text": [
      "[0, 1, 4, 4, 1, 0, 1, 4, 4, 1, 0]\n"
     ]
    }
   ],
   "source": [
    "a = [i**2%5 for i in range(5,16)]\n",
    "print(a)"
   ]
  },
  {
   "cell_type": "code",
   "execution_count": 25,
   "id": "2db54188",
   "metadata": {},
   "outputs": [
    {
     "data": {
      "text/plain": [
       "['Avengers: Age of Ultron',\n",
       " 'Ant-Man',\n",
       " 'Avengers: Infinity War',\n",
       " 'Ant-Man and the Wasp',\n",
       " 'Avengers Endgame: The Infinity Stones']"
      ]
     },
     "execution_count": 25,
     "metadata": {},
     "output_type": "execute_result"
    }
   ],
   "source": [
    "## Chekcing if a name is starting with A\n",
    "movies = [\"Iron Man\",\"The Incredible Hulk\",\"Iron Man 2\",\"Thor\",\"Captain America: The First Avenger\",\"Marvel’s The Avengers\",\"Iron Man 3\",\"Thor: The Dark World\",\"Captain America: The Winter Soldier\",\"Guardians of the Galaxy\",\"Avengers: Age of Ultron\",\"Ant-Man\",\"Captain America: Civil War\",\"Doctor Strange\",\"Guardians of the Galaxy Part2\",\"Spider-Man: Homecoming\",\"Thor: Ragnarok\",\"Black Panther\",\"Avengers: Infinity War\",\"Ant-Man and the Wasp\",\"Captain Marvel\",\"Avengers Endgame: The Infinity Stones\"]\n",
    "movies2 = []\n",
    "for i in movies:\n",
    "    if i.startswith('A'):\n",
    "        movies2.append(i)\n",
    "movies2"
   ]
  },
  {
   "cell_type": "code",
   "execution_count": null,
   "id": "d2f45e13",
   "metadata": {},
   "outputs": [],
   "source": []
  },
  {
   "cell_type": "code",
   "execution_count": null,
   "id": "7f4a7a7f",
   "metadata": {},
   "outputs": [],
   "source": []
  },
  {
   "cell_type": "code",
   "execution_count": null,
   "id": "1b4cceaf",
   "metadata": {},
   "outputs": [],
   "source": []
  },
  {
   "cell_type": "code",
   "execution_count": null,
   "id": "a1916d38",
   "metadata": {},
   "outputs": [],
   "source": []
  },
  {
   "cell_type": "code",
   "execution_count": null,
   "id": "9fb6f143",
   "metadata": {},
   "outputs": [],
   "source": []
  },
  {
   "cell_type": "code",
   "execution_count": null,
   "id": "25aa70a6",
   "metadata": {},
   "outputs": [],
   "source": []
  },
  {
   "cell_type": "code",
   "execution_count": null,
   "id": "c3c4ade3",
   "metadata": {},
   "outputs": [],
   "source": []
  },
  {
   "cell_type": "code",
   "execution_count": null,
   "id": "99465d35",
   "metadata": {},
   "outputs": [],
   "source": []
  },
  {
   "cell_type": "code",
   "execution_count": null,
   "id": "c670481d",
   "metadata": {},
   "outputs": [],
   "source": []
  },
  {
   "cell_type": "code",
   "execution_count": null,
   "id": "0bb27567",
   "metadata": {},
   "outputs": [],
   "source": []
  },
  {
   "cell_type": "code",
   "execution_count": null,
   "id": "9418d829",
   "metadata": {},
   "outputs": [],
   "source": []
  },
  {
   "cell_type": "code",
   "execution_count": null,
   "id": "813c8d4a",
   "metadata": {},
   "outputs": [],
   "source": []
  },
  {
   "cell_type": "code",
   "execution_count": null,
   "id": "cdae28f5",
   "metadata": {},
   "outputs": [],
   "source": []
  },
  {
   "cell_type": "code",
   "execution_count": null,
   "id": "9934b38b",
   "metadata": {},
   "outputs": [],
   "source": []
  },
  {
   "cell_type": "code",
   "execution_count": null,
   "id": "cef1b517",
   "metadata": {},
   "outputs": [],
   "source": []
  },
  {
   "cell_type": "code",
   "execution_count": null,
   "id": "7415dd62",
   "metadata": {},
   "outputs": [],
   "source": []
  },
  {
   "cell_type": "code",
   "execution_count": null,
   "id": "d998f8a2",
   "metadata": {},
   "outputs": [],
   "source": []
  }
 ],
 "metadata": {
  "kernelspec": {
   "display_name": "Python 3 (ipykernel)",
   "language": "python",
   "name": "python3"
  },
  "language_info": {
   "codemirror_mode": {
    "name": "ipython",
    "version": 3
   },
   "file_extension": ".py",
   "mimetype": "text/x-python",
   "name": "python",
   "nbconvert_exporter": "python",
   "pygments_lexer": "ipython3",
   "version": "3.9.12"
  }
 },
 "nbformat": 4,
 "nbformat_minor": 5
}
