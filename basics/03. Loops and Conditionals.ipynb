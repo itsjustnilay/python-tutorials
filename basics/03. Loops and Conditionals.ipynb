{
 "cells": [
  {
   "cell_type": "markdown",
   "id": "5710b01e",
   "metadata": {},
   "source": [
    "## <u>LOOPS and CONDITIONALS</u>"
   ]
  },
  {
   "cell_type": "markdown",
   "id": "2d1ea5f6",
   "metadata": {},
   "source": [
    "## If, Else, Elif"
   ]
  },
  {
   "cell_type": "markdown",
   "id": "3b55ea33",
   "metadata": {},
   "source": [
    "In order to write useful programs, we almost always need the ability to check conditions and change the behavior of the program accordingly. Conditional statements give us this ability. The simplest form is the **if statement**, which has the genaral form:"
   ]
  },
  {
   "cell_type": "code",
   "execution_count": null,
   "id": "07f9257c",
   "metadata": {},
   "outputs": [],
   "source": [
    "if BOOLEAN EXPRESSION:\n",
    "    STATEMENTS"
   ]
  },
  {
   "cell_type": "markdown",
   "id": "91ffa41a",
   "metadata": {},
   "source": [
    "A few important things to note about if statements:\n",
    "* The colon (:) is significant and required. It separates the header of the compound statement from the body.\n",
    "* The line after the colon must be indented. It is standard in Python to use four spaces for indenting.\n",
    "* All lines indented the same amount after the colon will be executed whenever the BOOLEAN_EXPRESSION is true.\n",
    "\n",
    "The boolean expression after the if statement is called the condition. If it is true, then all the indented statements get executed. "
   ]
  },
  {
   "cell_type": "code",
   "execution_count": 13,
   "id": "0985f9fd",
   "metadata": {},
   "outputs": [
    {
     "name": "stdout",
     "output_type": "stream",
     "text": [
      "4\n"
     ]
    }
   ],
   "source": [
    "a = 4\n",
    "if a>3:\n",
    "    print(a)"
   ]
  },
  {
   "cell_type": "markdown",
   "id": "1441bc28",
   "metadata": {},
   "source": [
    "It is frequently the case that you want one thing to happen when a condition it true, and something else to happen when it is false. For that we have **the if else statement**."
   ]
  },
  {
   "cell_type": "code",
   "execution_count": 8,
   "id": "fdb9b93f",
   "metadata": {},
   "outputs": [
    {
     "name": "stdout",
     "output_type": "stream",
     "text": [
      "No, I won't have it. I want spam!\n"
     ]
    }
   ],
   "source": [
    "food = \"mango\"\n",
    "if food == 'spam':\n",
    "    print('Ummmm, my favorite!')\n",
    "else:\n",
    "    print(\"No, I won't have it. I want spam!\")\n",
    "# Here, the first print statement will execute if food is equal to 'spam', \n",
    "# and the print statement indented under the else clause will get executed when it is not."
   ]
  },
  {
   "cell_type": "markdown",
   "id": "711e9889",
   "metadata": {},
   "source": [
    "The **syntax** for an if else statement looks like this:"
   ]
  },
  {
   "cell_type": "code",
   "execution_count": null,
   "id": "f5feb9cc",
   "metadata": {},
   "outputs": [],
   "source": [
    "if BOOLEAN EXPRESSION:\n",
    "    STATEMENTS_1        # executed if condition evaluates to True\n",
    "else:\n",
    "    STATEMENTS_2        # executed if condition evaluates to False"
   ]
  },
  {
   "cell_type": "markdown",
   "id": "17df3eae",
   "metadata": {},
   "source": [
    "Each statement inside the if block of an if else statement is executed in order if the boolean expression evaluates to True. The entire block of statements is skipped if the boolean expression evaluates to False, and instead all the statements under the else clause are executed.\n",
    "\n",
    "There is no limit on the number of statements that can appear under the two clauses of an if else statement, but there has to be at least one statement in each block. Occasionally, it is useful to have a section with no statements (usually as a place keeper, or scaffolding, for code you haven’t written yet). In that case, you can use the pass statement, which does nothing except act as a placeholder."
   ]
  },
  {
   "cell_type": "code",
   "execution_count": 9,
   "id": "42dbcb4d",
   "metadata": {},
   "outputs": [],
   "source": [
    "if True:          # This is always true\n",
    "    pass          # so this is always executed, but it does nothing\n",
    "else:\n",
    "    pass"
   ]
  },
  {
   "cell_type": "code",
   "execution_count": 2,
   "id": "e414eedf",
   "metadata": {},
   "outputs": [
    {
     "name": "stdout",
     "output_type": "stream",
     "text": [
      "1 is ODD\n",
      "2 is EVEN\n",
      "3 is ODD\n",
      "4 is EVEN\n",
      "5 is ODD\n"
     ]
    }
   ],
   "source": [
    "# Take a list x of numbers and print \"Even\" if the number is even, otherwise \"Odd\"\n",
    "\n",
    "x = [1,2,3,4,5]\n",
    "\n",
    "for i in x:\n",
    "    if i%2 == 0:\n",
    "        print(i, \"is EVEN\")\n",
    "    else:\n",
    "        print(i, \"is ODD\")"
   ]
  },
  {
   "cell_type": "code",
   "execution_count": 3,
   "id": "7e6b320a",
   "metadata": {},
   "outputs": [
    {
     "name": "stdout",
     "output_type": "stream",
     "text": [
      "Enter your first number:5\n",
      "Enter your second number:7\n",
      "7 is bigger.\n"
     ]
    }
   ],
   "source": [
    "# Take an input of 2 numbers, a and b from user and print if a>b or b<a\n",
    "\n",
    "a = int(input(\"Enter your first number:\"))\n",
    "b = int(input(\"Enter your second number:\"))\n",
    "\n",
    "if a > b:\n",
    "    print(a, \"is bigger.\")\n",
    "else:\n",
    "    print(b, \"is bigger.\")"
   ]
  },
  {
   "cell_type": "markdown",
   "id": "8fcfb382",
   "metadata": {},
   "source": [
    "Sometimes there are more than two possibilities and we need more than two branches. One way to express a computation like that is a **chained conditional**:"
   ]
  },
  {
   "cell_type": "code",
   "execution_count": null,
   "id": "63b23790",
   "metadata": {},
   "outputs": [],
   "source": [
    "if x < y:\n",
    "    STATEMENTS_A\n",
    "elif x > y:\n",
    "    STATEMENTS_B\n",
    "else:\n",
    "    STATEMENTS_C"
   ]
  },
  {
   "cell_type": "markdown",
   "id": "ba919cfa",
   "metadata": {},
   "source": [
    "**elif** is an abbreviation of else if. Again, exactly one branch will be executed. There is no limit of the number of elif statements but only a single (and optional) final else statement is allowed and it must be the last branch in the statement:\n",
    "\n",
    "**Each condition is checked in order.** If the first is false, the next is checked, and so on. If one of them is true, the corresponding branch executes, and the statement ends. Even if more than one condition is true, only the first true branch executes."
   ]
  },
  {
   "cell_type": "code",
   "execution_count": 20,
   "id": "338e05ac",
   "metadata": {},
   "outputs": [
    {
     "name": "stdout",
     "output_type": "stream",
     "text": [
      "enter:t\n",
      "Invalid choice.\n"
     ]
    }
   ],
   "source": [
    "choice = (input(\"enter:\"))\n",
    "if choice == 'a':\n",
    "    print(\"You chose 'a'.\")\n",
    "elif choice == 'b':\n",
    "    print(\"You chose 'b'.\")\n",
    "elif choice == 'c':\n",
    "    print(\"You chose 'c'.\")\n",
    "else:\n",
    "    print(\"Invalid choice.\")"
   ]
  },
  {
   "cell_type": "code",
   "execution_count": 14,
   "id": "12cf7214",
   "metadata": {},
   "outputs": [
    {
     "name": "stdout",
     "output_type": "stream",
     "text": [
      "please enter your marks: 78\n",
      "Your grade is B+\n"
     ]
    }
   ],
   "source": [
    "# program to print grade of marks\n",
    "m = int(input(\"please enter your marks: \"))\n",
    "if 90<=m and m<=100:\n",
    "    print(\"Your grade is A\")\n",
    "elif 80<=m and m<=90:\n",
    "    print(\"Your grade is B\")\n",
    "elif 70<=m and m<=80:\n",
    "    print(\"Your grade is B+\")\n",
    "elif 60<=m and m<=70:\n",
    "    print(\"Your grade is c\")\n",
    "elif 50<=m and m<=60:\n",
    "    print(\"Your grade is D\")"
   ]
  },
  {
   "cell_type": "code",
   "execution_count": 17,
   "id": "44639916",
   "metadata": {},
   "outputs": [
    {
     "name": "stdout",
     "output_type": "stream",
     "text": [
      "2 is Fizz\n",
      "3 is Dizz\n",
      "4 is Fizz\n",
      "6 is FizzDizz\n",
      "8 is Fizz\n",
      "9 is Dizz\n",
      "10 is Fizz\n",
      "12 is FizzDizz\n",
      "14 is Fizz\n",
      "15 is Dizz\n"
     ]
    }
   ],
   "source": [
    "for i in range(1,16):\n",
    "    if i%2 == 0 and i%3 == 0:\n",
    "        print(i, \"is\",\"FizzDizz\")\n",
    "    elif i%2 == 0:\n",
    "        print(i, \"is\", \"Fizz\")\n",
    "    elif i%3 == 0:\n",
    "        print(i, \"is\", \"Dizz\")"
   ]
  },
  {
   "cell_type": "markdown",
   "id": "97cc5eb6",
   "metadata": {},
   "source": [
    " "
   ]
  },
  {
   "cell_type": "markdown",
   "id": "f33c79b3",
   "metadata": {},
   "source": [
    "## For Loop"
   ]
  },
  {
   "cell_type": "markdown",
   "id": "fc595af8",
   "metadata": {},
   "source": [
    "The **for loop** processes each item in a sequence, so it is used with Python’s sequence data types - strings, lists, and tuples. Each item in turn is (re-)assigned to the loop variable, and the body of the loop is executed.\n",
    "\n",
    "The general form of a for loop is:"
   ]
  },
  {
   "cell_type": "code",
   "execution_count": null,
   "id": "38f4fc0e",
   "metadata": {},
   "outputs": [],
   "source": [
    "for LOOP_VARIABLE in SEQUENCE:\n",
    "    STATEMENTS"
   ]
  },
  {
   "cell_type": "markdown",
   "id": "47a914a8",
   "metadata": {},
   "source": [
    "This is another example of a compound statement in Python, and like the branching statements, it has a header terminated by a colon (:) and a body consisting of a sequence of one or more statements indented the same amount from the header.\n",
    "\n",
    "The loop variable is created when the for statement runs, so you do not need to create the variable before then. Each iteration assigns the the loop variable to the next element in the sequence, and then executes the statements in the body. The statement finishes when the last element in the sequence is reached.\n",
    "\n",
    "This type of flow is called a loop because it loops back around to the top after each iteration."
   ]
  },
  {
   "cell_type": "code",
   "execution_count": 52,
   "id": "eab327b6",
   "metadata": {},
   "outputs": [
    {
     "name": "stdout",
     "output_type": "stream",
     "text": [
      "Enter number whose multiplication table you want to see: 7\n",
      "7 * 1 = 7\n",
      "7 * 2 = 14\n",
      "7 * 3 = 21\n",
      "7 * 4 = 28\n",
      "7 * 5 = 35\n",
      "7 * 6 = 42\n",
      "7 * 7 = 49\n",
      "7 * 8 = 56\n",
      "7 * 9 = 63\n",
      "7 * 10 = 70\n"
     ]
    }
   ],
   "source": [
    "# print table of a number using for loop\n",
    "\n",
    "n = int(input(\"Enter number whose multiplication table you want to see: \"))\n",
    "for x in range(1,11):\n",
    "    print(n, \"*\", x,\"=\", n*x )"
   ]
  },
  {
   "cell_type": "code",
   "execution_count": 22,
   "id": "c4458168",
   "metadata": {},
   "outputs": [
    {
     "name": "stdout",
     "output_type": "stream",
     "text": [
      "Hi Margot.  Please come to my party on Saturday!\n",
      "Hi Kathryn.  Please come to my party on Saturday!\n",
      "Hi Prisila.  Please come to my party on Saturday!\n"
     ]
    }
   ],
   "source": [
    "# print invitation to birthday party using for loop\n",
    "for friend in ['Margot', 'Kathryn', 'Prisila']:\n",
    "    invitation = \"Hi \" + friend + \".  Please come to my party on Saturday!\"\n",
    "    print(invitation)"
   ]
  },
  {
   "cell_type": "markdown",
   "id": "a06decc0",
   "metadata": {},
   "source": [
    "Often times you will want a loop that iterates a given number of times, or that iterates over a given sequence of numbers. The range function come in handy for that."
   ]
  },
  {
   "cell_type": "code",
   "execution_count": 23,
   "id": "03c7dfdc",
   "metadata": {},
   "outputs": [
    {
     "name": "stdout",
     "output_type": "stream",
     "text": [
      "i is now: 0\n",
      "i is now: 1\n",
      "i is now: 2\n",
      "i is now: 3\n",
      "i is now: 4\n"
     ]
    }
   ],
   "source": [
    "for i in range(5):\n",
    "    print('i is now:', i)"
   ]
  },
  {
   "cell_type": "code",
   "execution_count": 26,
   "id": "df53b5e9",
   "metadata": {},
   "outputs": [
    {
     "name": "stdout",
     "output_type": "stream",
     "text": [
      "2\n",
      "3\n",
      "4\n",
      "5\n"
     ]
    }
   ],
   "source": [
    "# write a for loop for writing numbers from 2 to 5\n",
    "\n",
    "for i in range(2,6):    #remember indexing\n",
    "    print(i)"
   ]
  },
  {
   "cell_type": "code",
   "execution_count": 29,
   "id": "8f5e8031",
   "metadata": {},
   "outputs": [
    {
     "name": "stdout",
     "output_type": "stream",
     "text": [
      "99 is odd\n",
      "100 is even\n",
      "101 is odd\n",
      "102 is even\n",
      "103 is odd\n",
      "104 is even\n"
     ]
    }
   ],
   "source": [
    "# find out which number is odd and which is even in range of 99 to 105\n",
    "for x in range(99,105):\n",
    "    if x%2 != 0:\n",
    "        print(x, \"is odd\")\n",
    "    else:\n",
    "        print(x, \"is even\")"
   ]
  },
  {
   "cell_type": "markdown",
   "id": "000e4420",
   "metadata": {},
   "source": [
    " "
   ]
  },
  {
   "cell_type": "markdown",
   "id": "39ee8895",
   "metadata": {},
   "source": [
    "## Tables"
   ]
  },
  {
   "cell_type": "markdown",
   "id": "05a9a766",
   "metadata": {},
   "source": [
    "One of the things loops are good for is generating tables. Before computers were readily available, people had to calculate logarithms, sines and cosines, and other mathematical functions by hand. To make that easier, mathematics books contained long tables listing the values of these functions. Creating the tables was slow and boring, and they tended to be full of errors. When computers appeared on the scene, one of the initial reactions was, “This is great! We can use the computers to generate the tables, so there will be no errors.” That turned out to be true (mostly) but shortsighted. Soon thereafter, computers and calculators were so pervasive that the tables became obsolete. Well, almost. For some operations, computers use tables of values to get an approximate answer and then perform computations to improve the approximation. In some cases, there have been errors in the underlying tables, most famously in the table the Intel Pentium processor chip used to perform floating-point division.\n",
    "\n",
    "Although a log table is not as useful as it once was, it still makes a good example. The following program outputs a sequence of values in the left column and 2 raised to the power of that value in the right column:"
   ]
  },
  {
   "cell_type": "code",
   "execution_count": 31,
   "id": "1344ec7b",
   "metadata": {},
   "outputs": [
    {
     "name": "stdout",
     "output_type": "stream",
     "text": [
      "0 \t 1\n",
      "1 \t 2\n",
      "2 \t 4\n",
      "3 \t 8\n",
      "4 \t 16\n",
      "5 \t 32\n",
      "6 \t 64\n",
      "7 \t 128\n",
      "8 \t 256\n"
     ]
    }
   ],
   "source": [
    "for x in range(9):   # Generate numbers 0 to 8\n",
    "    print(x, '\\t', 2**x)  #Using the tab character ('\\t') makes the output align nicely."
   ]
  },
  {
   "cell_type": "markdown",
   "id": "9139fbb6",
   "metadata": {},
   "source": [
    " "
   ]
  },
  {
   "cell_type": "markdown",
   "id": "f7a4b655",
   "metadata": {},
   "source": [
    "## Try and Except\n",
    "\n",
    "* The **try** block lets you test a block of code for errors.\n",
    "* The **except** block lets you handle the error.\n",
    "* The **else** block lets you execute code when there is no error.\n",
    "* The **finally** block lets you execute code, regardless of the result of the try- and except blocks.\n",
    "\n",
    "When an error occurs, or exception as we call it, Python will normally stop and generate an error message.\n",
    "These exceptions can be handled using the try statement:"
   ]
  },
  {
   "cell_type": "code",
   "execution_count": 45,
   "id": "96d017d4",
   "metadata": {},
   "outputs": [
    {
     "name": "stdout",
     "output_type": "stream",
     "text": [
      "8\n"
     ]
    }
   ],
   "source": [
    "# The try block will generate an exception, because x is not defined:\n",
    "\n",
    "try:\n",
    "  print(x)\n",
    "except:\n",
    "  print(\"An exception occurred\")\n",
    "\n",
    "# Since the try block raises an error, the except block will be executed.\n",
    "# Without the try block, the program will crash and raise an error"
   ]
  },
  {
   "cell_type": "code",
   "execution_count": 46,
   "id": "258339b4",
   "metadata": {},
   "outputs": [
    {
     "name": "stdout",
     "output_type": "stream",
     "text": [
      "8\n"
     ]
    }
   ],
   "source": [
    "# You can define as many exception blocks as you want, \n",
    "#e.g. if you want to execute a special block of code for a special kind of error:\n",
    "\n",
    "try:\n",
    "  print(x)\n",
    "except NameError:\n",
    "  print(\"Variable x is not defined\")\n",
    "except:\n",
    "  print(\"Something else went wrong\")"
   ]
  },
  {
   "cell_type": "code",
   "execution_count": 47,
   "id": "73cf3595",
   "metadata": {},
   "outputs": [
    {
     "name": "stdout",
     "output_type": "stream",
     "text": [
      "Hello\n",
      "Nothing went wrong\n"
     ]
    }
   ],
   "source": [
    "# You can use the else keyword to define a block of code to be executed if no errors were raised:\n",
    "\n",
    "try:\n",
    "  print(\"Hello\")\n",
    "except:\n",
    "  print(\"Something went wrong\")\n",
    "else:\n",
    "  print(\"Nothing went wrong\")"
   ]
  },
  {
   "cell_type": "code",
   "execution_count": 48,
   "id": "5d14ddaf",
   "metadata": {},
   "outputs": [
    {
     "name": "stdout",
     "output_type": "stream",
     "text": [
      "8\n",
      "The 'try except' is finished\n"
     ]
    }
   ],
   "source": [
    "# The finally block, if specified, will be executed regardless if the try block raises an error or not.\n",
    "\n",
    "try:\n",
    "  print(x)\n",
    "except:\n",
    "  print(\"Something went wrong\")\n",
    "finally:\n",
    "  print(\"The 'try except' is finished\")"
   ]
  },
  {
   "cell_type": "markdown",
   "id": "07738ad2",
   "metadata": {},
   "source": [
    "## While Loops\n",
    "With the while loop we can execute a set of statements as long as a condition is true.\n",
    "\n",
    "Computers are often used to automate repetitive tasks. Repeating identical or similar tasks without making errors is something that computers do well and people do poorly. Because iteration is so common, Python provides several language features to make it easier.\n",
    "\n",
    "One form of iteration in Python is the while statement. Here is a simple program that counts down from five and then says “Blastoff!”."
   ]
  },
  {
   "cell_type": "code",
   "execution_count": 49,
   "id": "c3e84aa0",
   "metadata": {},
   "outputs": [
    {
     "name": "stdout",
     "output_type": "stream",
     "text": [
      "5\n",
      "4\n",
      "3\n",
      "2\n",
      "1\n",
      "Blastoff!\n"
     ]
    }
   ],
   "source": [
    "n = 5\n",
    "while n > 0:\n",
    "    print(n)\n",
    "    n = n - 1\n",
    "print('Blastoff!')"
   ]
  },
  {
   "cell_type": "markdown",
   "id": "a62e97a0",
   "metadata": {},
   "source": [
    "You can almost read the while statement as if it were English. It means, “While n is greater than 0, display the value of n and then reduce the value of n by 1. When you get to 0, exit the while statement and display the word Blastoff!”\n",
    "\n",
    "More formally, here is the flow of execution for a while statement:\n",
    "\n",
    "* Evaluate the condition, yielding True or False.\n",
    "\n",
    "* If the condition is false, exit the while statement and continue execution at the next statement.\n",
    "\n",
    "* If the condition is true, execute the body and then go back to step 1.\n",
    "\n",
    "This type of flow is called a loop because the third step loops back around to the top. We call each time we execute the body of the loop an iteration. For the above loop, we would say, “It had five iterations”, which means that the body of the loop was executed five times.\n",
    "\n",
    "The body of the loop should change the value of one or more variables so that eventually the condition becomes false and the loop terminates. We call the variable that changes each time the loop executes and controls when the loop finishes the iteration variable. If there is no iteration variable, the loop will repeat forever, resulting in an infinite loop."
   ]
  },
  {
   "cell_type": "code",
   "execution_count": 50,
   "id": "dc2ea137",
   "metadata": {},
   "outputs": [
    {
     "name": "stdout",
     "output_type": "stream",
     "text": [
      "1\n",
      "2\n",
      "3\n",
      "4\n",
      "5\n"
     ]
    }
   ],
   "source": [
    "i = 1\n",
    "while i < 6:\n",
    "  print(i)\n",
    "  i += 1   #(i = i + 1)\n",
    "    \n",
    "# Note: remember to increment i, or else the loop will continue forever.\n",
    "# The while loop requires relevant variables to be ready, \n",
    "# in this example we need to define an indexing variable, i, which we set to 1."
   ]
  },
  {
   "cell_type": "markdown",
   "id": "065ec57d",
   "metadata": {},
   "source": [
    "While loops are used alone or in conjugation with different statements:\n",
    "* break statement\n",
    "* continue statement\n",
    "* else statement"
   ]
  },
  {
   "cell_type": "markdown",
   "id": "eeff43ea",
   "metadata": {},
   "source": [
    "**The 'break' Statement:**\n",
    "With the break statement we can stop the loop even if the while condition is true:"
   ]
  },
  {
   "cell_type": "code",
   "execution_count": 51,
   "id": "9fa8b063",
   "metadata": {},
   "outputs": [
    {
     "name": "stdout",
     "output_type": "stream",
     "text": [
      "1\n",
      "2\n",
      "3\n"
     ]
    }
   ],
   "source": [
    "i = 1\n",
    "while i < 6:\n",
    "  print(i)\n",
    "  if i == 3:\n",
    "    break    # loop breaks and will not iterate again\n",
    "  i += 1"
   ]
  },
  {
   "cell_type": "markdown",
   "id": "7e0c48e3",
   "metadata": {},
   "source": [
    "**The 'continue' Statement:**\n",
    "With the continue statement we can stop the current iteration, and continue with the next:"
   ]
  },
  {
   "cell_type": "code",
   "execution_count": 40,
   "id": "a0190a96",
   "metadata": {},
   "outputs": [
    {
     "name": "stdout",
     "output_type": "stream",
     "text": [
      "1\n",
      "2\n",
      "4\n",
      "5\n",
      "for loop is done\n",
      "Outside the for loop\n"
     ]
    }
   ],
   "source": [
    "for i in [1,2,3,4,5]:\n",
    "    if i==3:\n",
    "        continue     # because of continue statement, iteration with value 3 is skipped\n",
    "                     # the loop moves on forward to next iteration, ie 4\n",
    "    print (i)\n",
    "else:\n",
    "    print (\"for loop is done\")\n",
    "\n",
    "print (\"Outside the for loop\")"
   ]
  },
  {
   "cell_type": "markdown",
   "id": "883efbf4",
   "metadata": {},
   "source": [
    "**The 'else' Statement:**\n",
    "With the else statement we can run a block of code once when the condition no longer is true:"
   ]
  },
  {
   "cell_type": "code",
   "execution_count": 43,
   "id": "e82dbeb3",
   "metadata": {},
   "outputs": [
    {
     "name": "stdout",
     "output_type": "stream",
     "text": [
      "1\n",
      "2\n",
      "3\n",
      "4\n",
      "5\n",
      "i is no longer less than 6\n"
     ]
    }
   ],
   "source": [
    "i = 1\n",
    "while i < 6:\n",
    "  print(i)\n",
    "  i += 1\n",
    "else:\n",
    "  print(\"i is no longer less than 6\")"
   ]
  },
  {
   "cell_type": "markdown",
   "id": "fb853fc9",
   "metadata": {},
   "source": [
    "**Exercise:**\n",
    "Write a program which repeatedly reads numbers until the user enters “done”. Once “done” is entered, print out the total, count, and average of the numbers. If the user enters anything other than a number, detect their mistake using try and except and print an error message and skip to the next number."
   ]
  },
  {
   "cell_type": "code",
   "execution_count": 44,
   "id": "3be372fd",
   "metadata": {},
   "outputs": [
    {
     "name": "stdout",
     "output_type": "stream",
     "text": [
      "enter a number: 5\n",
      "enter a number: 3\n",
      "enter a number: 2\n",
      "enter a number: done\n",
      "Error!\n",
      "enter a number: none\n",
      "\n",
      "total is: 10\n",
      "count is: 3\n",
      "average is: 3.3333333333333335\n"
     ]
    }
   ],
   "source": [
    "total = 0\n",
    "count = 0\n",
    "avg = 0\n",
    "\n",
    "while True:\n",
    "    a = input(\"enter a number: \")\n",
    "    if a == \"none\":\n",
    "        break\n",
    "    try:\n",
    "        a = int(a)\n",
    "        total += a\n",
    "        count += 1\n",
    "        avg = total/count\n",
    "    except:\n",
    "        print(\"Error!\")\n",
    "        continue\n",
    "print(\"\\ntotal is:\", total)\n",
    "print(\"count is:\", count)\n",
    "print(\"average is:\", avg)"
   ]
  },
  {
   "cell_type": "code",
   "execution_count": 1,
   "id": "f04b5f9d",
   "metadata": {},
   "outputs": [
    {
     "name": "stdout",
     "output_type": "stream",
     "text": [
      "Guess my number between 1 and 100: 12\n",
      "12  is too low.\n",
      "Guess again: 50\n",
      "50  is too low.\n",
      "Guess again: 70\n",
      "70 is too high.\n",
      "Guess again: 65\n",
      "65 is too high.\n",
      "Guess again: 60\n",
      "60 is too high.\n",
      "Guess again: 55\n",
      "55  is too low.\n",
      "Guess again: 56\n",
      "56  is too low.\n",
      "Guess again: 57\n",
      "57  is too low.\n",
      "Guess again: 58\n",
      "58  is too low.\n",
      "Guess again: 59\n",
      "\n",
      "\n",
      "Great, you got it in 9 guesses!\n"
     ]
    }
   ],
   "source": [
    "#the guessing game\n",
    "\n",
    "import random as rand   #importing the random module as rand\n",
    "\n",
    "num = rand.randrange(1,100)    # Get random number between (1 and 100)\n",
    "guesses = 0\n",
    "guess = int(input(\"Guess my number between 1 and 100: \"))\n",
    "\n",
    "while guess != num:\n",
    "    guesses += 1\n",
    "    if guess > num:\n",
    "        print(guess, \"is too high.\") \n",
    "    elif guess < num:\n",
    "        print(guess, \" is too low.\")\n",
    "    guess = int(input(\"Guess again: \"))\n",
    "\n",
    "print(\"\\n\\nGreat, you got it in\", guesses,  \"guesses!\")"
   ]
  },
  {
   "cell_type": "code",
   "execution_count": null,
   "id": "92c9ec35",
   "metadata": {},
   "outputs": [],
   "source": []
  }
 ],
 "metadata": {
  "kernelspec": {
   "display_name": "Python 3 (ipykernel)",
   "language": "python",
   "name": "python3"
  },
  "language_info": {
   "codemirror_mode": {
    "name": "ipython",
    "version": 3
   },
   "file_extension": ".py",
   "mimetype": "text/x-python",
   "name": "python",
   "nbconvert_exporter": "python",
   "pygments_lexer": "ipython3",
   "version": "3.9.12"
  }
 },
 "nbformat": 4,
 "nbformat_minor": 5
}
